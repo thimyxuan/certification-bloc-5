{
 "cells": [
  {
   "cell_type": "markdown",
   "metadata": {},
   "source": [
    "# PARTIE 2 : Prédiction des prix de location"
   ]
  },
  {
   "cell_type": "markdown",
   "metadata": {},
   "source": [
    "## Import librairies"
   ]
  },
  {
   "cell_type": "code",
   "execution_count": 1,
   "metadata": {},
   "outputs": [],
   "source": [
    "import pandas as pd\n",
    "import numpy as np\n",
    "from sklearn.model_selection import train_test_split\n",
    "from sklearn.pipeline import Pipeline\n",
    "from sklearn.preprocessing import OneHotEncoder, StandardScaler\n",
    "from sklearn.compose import ColumnTransformer\n",
    "from sklearn.linear_model import LinearRegression\n",
    "from sklearn.metrics import r2_score\n",
    "from sklearn.metrics import mean_squared_error\n",
    "\n",
    "import warnings\n",
    "warnings.filterwarnings('ignore', category=DeprecationWarning)\n",
    "warnings.filterwarnings('ignore', category=UserWarning)"
   ]
  },
  {
   "cell_type": "markdown",
   "metadata": {},
   "source": [
    "## Lecture des données"
   ]
  },
  {
   "cell_type": "code",
   "execution_count": 2,
   "metadata": {},
   "outputs": [
    {
     "name": "stdout",
     "output_type": "stream",
     "text": [
      "(4843, 14)\n"
     ]
    },
    {
     "data": {
      "text/html": [
       "<div>\n",
       "<style scoped>\n",
       "    .dataframe tbody tr th:only-of-type {\n",
       "        vertical-align: middle;\n",
       "    }\n",
       "\n",
       "    .dataframe tbody tr th {\n",
       "        vertical-align: top;\n",
       "    }\n",
       "\n",
       "    .dataframe thead th {\n",
       "        text-align: right;\n",
       "    }\n",
       "</style>\n",
       "<table border=\"1\" class=\"dataframe\">\n",
       "  <thead>\n",
       "    <tr style=\"text-align: right;\">\n",
       "      <th></th>\n",
       "      <th>model_key</th>\n",
       "      <th>mileage</th>\n",
       "      <th>engine_power</th>\n",
       "      <th>fuel</th>\n",
       "      <th>paint_color</th>\n",
       "      <th>car_type</th>\n",
       "      <th>private_parking_available</th>\n",
       "      <th>has_gps</th>\n",
       "      <th>has_air_conditioning</th>\n",
       "      <th>automatic_car</th>\n",
       "      <th>has_getaround_connect</th>\n",
       "      <th>has_speed_regulator</th>\n",
       "      <th>winter_tires</th>\n",
       "      <th>rental_price_per_day</th>\n",
       "    </tr>\n",
       "  </thead>\n",
       "  <tbody>\n",
       "    <tr>\n",
       "      <th>0</th>\n",
       "      <td>Citroën</td>\n",
       "      <td>140411</td>\n",
       "      <td>100</td>\n",
       "      <td>diesel</td>\n",
       "      <td>black</td>\n",
       "      <td>convertible</td>\n",
       "      <td>True</td>\n",
       "      <td>True</td>\n",
       "      <td>False</td>\n",
       "      <td>False</td>\n",
       "      <td>True</td>\n",
       "      <td>True</td>\n",
       "      <td>True</td>\n",
       "      <td>106</td>\n",
       "    </tr>\n",
       "    <tr>\n",
       "      <th>1</th>\n",
       "      <td>Citroën</td>\n",
       "      <td>13929</td>\n",
       "      <td>317</td>\n",
       "      <td>petrol</td>\n",
       "      <td>grey</td>\n",
       "      <td>convertible</td>\n",
       "      <td>True</td>\n",
       "      <td>True</td>\n",
       "      <td>False</td>\n",
       "      <td>False</td>\n",
       "      <td>False</td>\n",
       "      <td>True</td>\n",
       "      <td>True</td>\n",
       "      <td>264</td>\n",
       "    </tr>\n",
       "    <tr>\n",
       "      <th>2</th>\n",
       "      <td>Citroën</td>\n",
       "      <td>183297</td>\n",
       "      <td>120</td>\n",
       "      <td>diesel</td>\n",
       "      <td>white</td>\n",
       "      <td>convertible</td>\n",
       "      <td>False</td>\n",
       "      <td>False</td>\n",
       "      <td>False</td>\n",
       "      <td>False</td>\n",
       "      <td>True</td>\n",
       "      <td>False</td>\n",
       "      <td>True</td>\n",
       "      <td>101</td>\n",
       "    </tr>\n",
       "    <tr>\n",
       "      <th>3</th>\n",
       "      <td>Citroën</td>\n",
       "      <td>128035</td>\n",
       "      <td>135</td>\n",
       "      <td>diesel</td>\n",
       "      <td>red</td>\n",
       "      <td>convertible</td>\n",
       "      <td>True</td>\n",
       "      <td>True</td>\n",
       "      <td>False</td>\n",
       "      <td>False</td>\n",
       "      <td>True</td>\n",
       "      <td>True</td>\n",
       "      <td>True</td>\n",
       "      <td>158</td>\n",
       "    </tr>\n",
       "    <tr>\n",
       "      <th>4</th>\n",
       "      <td>Citroën</td>\n",
       "      <td>97097</td>\n",
       "      <td>160</td>\n",
       "      <td>diesel</td>\n",
       "      <td>silver</td>\n",
       "      <td>convertible</td>\n",
       "      <td>True</td>\n",
       "      <td>True</td>\n",
       "      <td>False</td>\n",
       "      <td>False</td>\n",
       "      <td>False</td>\n",
       "      <td>True</td>\n",
       "      <td>True</td>\n",
       "      <td>183</td>\n",
       "    </tr>\n",
       "  </tbody>\n",
       "</table>\n",
       "</div>"
      ],
      "text/plain": [
       "  model_key  mileage  engine_power    fuel paint_color     car_type  \\\n",
       "0   Citroën   140411           100  diesel       black  convertible   \n",
       "1   Citroën    13929           317  petrol        grey  convertible   \n",
       "2   Citroën   183297           120  diesel       white  convertible   \n",
       "3   Citroën   128035           135  diesel         red  convertible   \n",
       "4   Citroën    97097           160  diesel      silver  convertible   \n",
       "\n",
       "   private_parking_available  has_gps  has_air_conditioning  automatic_car  \\\n",
       "0                       True     True                 False          False   \n",
       "1                       True     True                 False          False   \n",
       "2                      False    False                 False          False   \n",
       "3                       True     True                 False          False   \n",
       "4                       True     True                 False          False   \n",
       "\n",
       "   has_getaround_connect  has_speed_regulator  winter_tires  \\\n",
       "0                   True                 True          True   \n",
       "1                  False                 True          True   \n",
       "2                   True                False          True   \n",
       "3                   True                 True          True   \n",
       "4                  False                 True          True   \n",
       "\n",
       "   rental_price_per_day  \n",
       "0                   106  \n",
       "1                   264  \n",
       "2                   101  \n",
       "3                   158  \n",
       "4                   183  "
      ]
     },
     "execution_count": 2,
     "metadata": {},
     "output_type": "execute_result"
    }
   ],
   "source": [
    "dataset = pd.read_csv('./src/get_around_pricing_project.csv')\n",
    "dataset.drop(['Unnamed: 0'], axis=1, inplace=True)\n",
    "print(dataset.shape)\n",
    "dataset.head()"
   ]
  },
  {
   "cell_type": "code",
   "execution_count": 3,
   "metadata": {},
   "outputs": [
    {
     "data": {
      "text/plain": [
       "car_type\n",
       "estate         1606\n",
       "sedan          1168\n",
       "suv            1058\n",
       "hatchback       699\n",
       "subcompact      117\n",
       "coupe           104\n",
       "convertible      47\n",
       "van              44\n",
       "Name: count, dtype: int64"
      ]
     },
     "execution_count": 3,
     "metadata": {},
     "output_type": "execute_result"
    }
   ],
   "source": [
    "dataset.car_type.value_counts()"
   ]
  },
  {
   "cell_type": "code",
   "execution_count": 4,
   "metadata": {},
   "outputs": [],
   "source": [
    "dataset.to_csv('./src/get_around_pricing_project_clean.csv', index=False)"
   ]
  },
  {
   "cell_type": "code",
   "execution_count": 5,
   "metadata": {},
   "outputs": [
    {
     "data": {
      "text/plain": [
       "model_key                    0\n",
       "mileage                      0\n",
       "engine_power                 0\n",
       "fuel                         0\n",
       "paint_color                  0\n",
       "car_type                     0\n",
       "private_parking_available    0\n",
       "has_gps                      0\n",
       "has_air_conditioning         0\n",
       "automatic_car                0\n",
       "has_getaround_connect        0\n",
       "has_speed_regulator          0\n",
       "winter_tires                 0\n",
       "rental_price_per_day         0\n",
       "dtype: int64"
      ]
     },
     "execution_count": 5,
     "metadata": {},
     "output_type": "execute_result"
    }
   ],
   "source": [
    "dataset.isna().sum()"
   ]
  },
  {
   "cell_type": "code",
   "execution_count": 6,
   "metadata": {},
   "outputs": [
    {
     "data": {
      "text/plain": [
       "model_key                    object\n",
       "mileage                       int64\n",
       "engine_power                  int64\n",
       "fuel                         object\n",
       "paint_color                  object\n",
       "car_type                     object\n",
       "private_parking_available      bool\n",
       "has_gps                        bool\n",
       "has_air_conditioning           bool\n",
       "automatic_car                  bool\n",
       "has_getaround_connect          bool\n",
       "has_speed_regulator            bool\n",
       "winter_tires                   bool\n",
       "rental_price_per_day          int64\n",
       "dtype: object"
      ]
     },
     "execution_count": 6,
     "metadata": {},
     "output_type": "execute_result"
    }
   ],
   "source": [
    "dataset.dtypes"
   ]
  },
  {
   "cell_type": "code",
   "execution_count": 7,
   "metadata": {},
   "outputs": [
    {
     "data": {
      "text/html": [
       "<div>\n",
       "<style scoped>\n",
       "    .dataframe tbody tr th:only-of-type {\n",
       "        vertical-align: middle;\n",
       "    }\n",
       "\n",
       "    .dataframe tbody tr th {\n",
       "        vertical-align: top;\n",
       "    }\n",
       "\n",
       "    .dataframe thead th {\n",
       "        text-align: right;\n",
       "    }\n",
       "</style>\n",
       "<table border=\"1\" class=\"dataframe\">\n",
       "  <thead>\n",
       "    <tr style=\"text-align: right;\">\n",
       "      <th></th>\n",
       "      <th>model_key</th>\n",
       "      <th>mileage</th>\n",
       "      <th>engine_power</th>\n",
       "      <th>fuel</th>\n",
       "      <th>paint_color</th>\n",
       "      <th>car_type</th>\n",
       "      <th>private_parking_available</th>\n",
       "      <th>has_gps</th>\n",
       "      <th>has_air_conditioning</th>\n",
       "      <th>automatic_car</th>\n",
       "      <th>has_getaround_connect</th>\n",
       "      <th>has_speed_regulator</th>\n",
       "      <th>winter_tires</th>\n",
       "      <th>rental_price_per_day</th>\n",
       "    </tr>\n",
       "  </thead>\n",
       "  <tbody>\n",
       "    <tr>\n",
       "      <th>count</th>\n",
       "      <td>4843</td>\n",
       "      <td>4.843000e+03</td>\n",
       "      <td>4843.00000</td>\n",
       "      <td>4843</td>\n",
       "      <td>4843</td>\n",
       "      <td>4843</td>\n",
       "      <td>4843</td>\n",
       "      <td>4843</td>\n",
       "      <td>4843</td>\n",
       "      <td>4843</td>\n",
       "      <td>4843</td>\n",
       "      <td>4843</td>\n",
       "      <td>4843</td>\n",
       "      <td>4843.000000</td>\n",
       "    </tr>\n",
       "    <tr>\n",
       "      <th>unique</th>\n",
       "      <td>28</td>\n",
       "      <td>NaN</td>\n",
       "      <td>NaN</td>\n",
       "      <td>4</td>\n",
       "      <td>10</td>\n",
       "      <td>8</td>\n",
       "      <td>2</td>\n",
       "      <td>2</td>\n",
       "      <td>2</td>\n",
       "      <td>2</td>\n",
       "      <td>2</td>\n",
       "      <td>2</td>\n",
       "      <td>2</td>\n",
       "      <td>NaN</td>\n",
       "    </tr>\n",
       "    <tr>\n",
       "      <th>top</th>\n",
       "      <td>Citroën</td>\n",
       "      <td>NaN</td>\n",
       "      <td>NaN</td>\n",
       "      <td>diesel</td>\n",
       "      <td>black</td>\n",
       "      <td>estate</td>\n",
       "      <td>True</td>\n",
       "      <td>True</td>\n",
       "      <td>False</td>\n",
       "      <td>False</td>\n",
       "      <td>False</td>\n",
       "      <td>False</td>\n",
       "      <td>True</td>\n",
       "      <td>NaN</td>\n",
       "    </tr>\n",
       "    <tr>\n",
       "      <th>freq</th>\n",
       "      <td>969</td>\n",
       "      <td>NaN</td>\n",
       "      <td>NaN</td>\n",
       "      <td>4641</td>\n",
       "      <td>1633</td>\n",
       "      <td>1606</td>\n",
       "      <td>2662</td>\n",
       "      <td>3839</td>\n",
       "      <td>3865</td>\n",
       "      <td>3881</td>\n",
       "      <td>2613</td>\n",
       "      <td>3674</td>\n",
       "      <td>4514</td>\n",
       "      <td>NaN</td>\n",
       "    </tr>\n",
       "    <tr>\n",
       "      <th>mean</th>\n",
       "      <td>NaN</td>\n",
       "      <td>1.409628e+05</td>\n",
       "      <td>128.98823</td>\n",
       "      <td>NaN</td>\n",
       "      <td>NaN</td>\n",
       "      <td>NaN</td>\n",
       "      <td>NaN</td>\n",
       "      <td>NaN</td>\n",
       "      <td>NaN</td>\n",
       "      <td>NaN</td>\n",
       "      <td>NaN</td>\n",
       "      <td>NaN</td>\n",
       "      <td>NaN</td>\n",
       "      <td>121.214536</td>\n",
       "    </tr>\n",
       "    <tr>\n",
       "      <th>std</th>\n",
       "      <td>NaN</td>\n",
       "      <td>6.019674e+04</td>\n",
       "      <td>38.99336</td>\n",
       "      <td>NaN</td>\n",
       "      <td>NaN</td>\n",
       "      <td>NaN</td>\n",
       "      <td>NaN</td>\n",
       "      <td>NaN</td>\n",
       "      <td>NaN</td>\n",
       "      <td>NaN</td>\n",
       "      <td>NaN</td>\n",
       "      <td>NaN</td>\n",
       "      <td>NaN</td>\n",
       "      <td>33.568268</td>\n",
       "    </tr>\n",
       "    <tr>\n",
       "      <th>min</th>\n",
       "      <td>NaN</td>\n",
       "      <td>-6.400000e+01</td>\n",
       "      <td>0.00000</td>\n",
       "      <td>NaN</td>\n",
       "      <td>NaN</td>\n",
       "      <td>NaN</td>\n",
       "      <td>NaN</td>\n",
       "      <td>NaN</td>\n",
       "      <td>NaN</td>\n",
       "      <td>NaN</td>\n",
       "      <td>NaN</td>\n",
       "      <td>NaN</td>\n",
       "      <td>NaN</td>\n",
       "      <td>10.000000</td>\n",
       "    </tr>\n",
       "    <tr>\n",
       "      <th>25%</th>\n",
       "      <td>NaN</td>\n",
       "      <td>1.029135e+05</td>\n",
       "      <td>100.00000</td>\n",
       "      <td>NaN</td>\n",
       "      <td>NaN</td>\n",
       "      <td>NaN</td>\n",
       "      <td>NaN</td>\n",
       "      <td>NaN</td>\n",
       "      <td>NaN</td>\n",
       "      <td>NaN</td>\n",
       "      <td>NaN</td>\n",
       "      <td>NaN</td>\n",
       "      <td>NaN</td>\n",
       "      <td>104.000000</td>\n",
       "    </tr>\n",
       "    <tr>\n",
       "      <th>50%</th>\n",
       "      <td>NaN</td>\n",
       "      <td>1.410800e+05</td>\n",
       "      <td>120.00000</td>\n",
       "      <td>NaN</td>\n",
       "      <td>NaN</td>\n",
       "      <td>NaN</td>\n",
       "      <td>NaN</td>\n",
       "      <td>NaN</td>\n",
       "      <td>NaN</td>\n",
       "      <td>NaN</td>\n",
       "      <td>NaN</td>\n",
       "      <td>NaN</td>\n",
       "      <td>NaN</td>\n",
       "      <td>119.000000</td>\n",
       "    </tr>\n",
       "    <tr>\n",
       "      <th>75%</th>\n",
       "      <td>NaN</td>\n",
       "      <td>1.751955e+05</td>\n",
       "      <td>135.00000</td>\n",
       "      <td>NaN</td>\n",
       "      <td>NaN</td>\n",
       "      <td>NaN</td>\n",
       "      <td>NaN</td>\n",
       "      <td>NaN</td>\n",
       "      <td>NaN</td>\n",
       "      <td>NaN</td>\n",
       "      <td>NaN</td>\n",
       "      <td>NaN</td>\n",
       "      <td>NaN</td>\n",
       "      <td>136.000000</td>\n",
       "    </tr>\n",
       "    <tr>\n",
       "      <th>max</th>\n",
       "      <td>NaN</td>\n",
       "      <td>1.000376e+06</td>\n",
       "      <td>423.00000</td>\n",
       "      <td>NaN</td>\n",
       "      <td>NaN</td>\n",
       "      <td>NaN</td>\n",
       "      <td>NaN</td>\n",
       "      <td>NaN</td>\n",
       "      <td>NaN</td>\n",
       "      <td>NaN</td>\n",
       "      <td>NaN</td>\n",
       "      <td>NaN</td>\n",
       "      <td>NaN</td>\n",
       "      <td>422.000000</td>\n",
       "    </tr>\n",
       "  </tbody>\n",
       "</table>\n",
       "</div>"
      ],
      "text/plain": [
       "       model_key       mileage  engine_power    fuel paint_color car_type  \\\n",
       "count       4843  4.843000e+03    4843.00000    4843        4843     4843   \n",
       "unique        28           NaN           NaN       4          10        8   \n",
       "top      Citroën           NaN           NaN  diesel       black   estate   \n",
       "freq         969           NaN           NaN    4641        1633     1606   \n",
       "mean         NaN  1.409628e+05     128.98823     NaN         NaN      NaN   \n",
       "std          NaN  6.019674e+04      38.99336     NaN         NaN      NaN   \n",
       "min          NaN -6.400000e+01       0.00000     NaN         NaN      NaN   \n",
       "25%          NaN  1.029135e+05     100.00000     NaN         NaN      NaN   \n",
       "50%          NaN  1.410800e+05     120.00000     NaN         NaN      NaN   \n",
       "75%          NaN  1.751955e+05     135.00000     NaN         NaN      NaN   \n",
       "max          NaN  1.000376e+06     423.00000     NaN         NaN      NaN   \n",
       "\n",
       "       private_parking_available has_gps has_air_conditioning automatic_car  \\\n",
       "count                       4843    4843                 4843          4843   \n",
       "unique                         2       2                    2             2   \n",
       "top                         True    True                False         False   \n",
       "freq                        2662    3839                 3865          3881   \n",
       "mean                         NaN     NaN                  NaN           NaN   \n",
       "std                          NaN     NaN                  NaN           NaN   \n",
       "min                          NaN     NaN                  NaN           NaN   \n",
       "25%                          NaN     NaN                  NaN           NaN   \n",
       "50%                          NaN     NaN                  NaN           NaN   \n",
       "75%                          NaN     NaN                  NaN           NaN   \n",
       "max                          NaN     NaN                  NaN           NaN   \n",
       "\n",
       "       has_getaround_connect has_speed_regulator winter_tires  \\\n",
       "count                   4843                4843         4843   \n",
       "unique                     2                   2            2   \n",
       "top                    False               False         True   \n",
       "freq                    2613                3674         4514   \n",
       "mean                     NaN                 NaN          NaN   \n",
       "std                      NaN                 NaN          NaN   \n",
       "min                      NaN                 NaN          NaN   \n",
       "25%                      NaN                 NaN          NaN   \n",
       "50%                      NaN                 NaN          NaN   \n",
       "75%                      NaN                 NaN          NaN   \n",
       "max                      NaN                 NaN          NaN   \n",
       "\n",
       "        rental_price_per_day  \n",
       "count            4843.000000  \n",
       "unique                   NaN  \n",
       "top                      NaN  \n",
       "freq                     NaN  \n",
       "mean              121.214536  \n",
       "std                33.568268  \n",
       "min                10.000000  \n",
       "25%               104.000000  \n",
       "50%               119.000000  \n",
       "75%               136.000000  \n",
       "max               422.000000  "
      ]
     },
     "execution_count": 7,
     "metadata": {},
     "output_type": "execute_result"
    }
   ],
   "source": [
    "dataset.describe(include='all')"
   ]
  },
  {
   "cell_type": "markdown",
   "metadata": {},
   "source": [
    "## Entraînement d'un modèle de machine learning\n",
    "\n",
    "Nous sommes dans un problème de régression linéaire. \n",
    "\n",
    "Nous cherchons à prédire un chiffre : le montant optimal du prix de location par journalier suivant le véhicule."
   ]
  },
  {
   "cell_type": "markdown",
   "metadata": {},
   "source": [
    "## Preprocessings\n",
    "\n",
    "### Isoler la variable cible"
   ]
  },
  {
   "cell_type": "code",
   "execution_count": 8,
   "metadata": {},
   "outputs": [
    {
     "name": "stdout",
     "output_type": "stream",
     "text": [
      "Separating labels from features...\n",
      "...Done\n",
      "\n",
      "y:\n",
      "   rental_price_per_day\n",
      "0                   106\n",
      "1                   264\n",
      "2                   101\n",
      "3                   158\n",
      "4                   183\n",
      "\n",
      "X:\n",
      "  model_key  mileage  engine_power    fuel paint_color     car_type  \\\n",
      "0   Citroën   140411           100  diesel       black  convertible   \n",
      "1   Citroën    13929           317  petrol        grey  convertible   \n",
      "2   Citroën   183297           120  diesel       white  convertible   \n",
      "3   Citroën   128035           135  diesel         red  convertible   \n",
      "4   Citroën    97097           160  diesel      silver  convertible   \n",
      "\n",
      "   private_parking_available  has_gps  has_air_conditioning  automatic_car  \\\n",
      "0                       True     True                 False          False   \n",
      "1                       True     True                 False          False   \n",
      "2                      False    False                 False          False   \n",
      "3                       True     True                 False          False   \n",
      "4                       True     True                 False          False   \n",
      "\n",
      "   has_getaround_connect  has_speed_regulator  winter_tires  \n",
      "0                   True                 True          True  \n",
      "1                  False                 True          True  \n",
      "2                   True                False          True  \n",
      "3                   True                 True          True  \n",
      "4                  False                 True          True  \n",
      "\n"
     ]
    }
   ],
   "source": [
    "# Seperate target variable y from features X:\n",
    "target_variable = ['rental_price_per_day']\n",
    "print('Separating labels from features...')\n",
    "y = dataset.loc[:,target_variable]\n",
    "X = dataset.drop(target_variable, axis = 1)\n",
    "print('...Done')\n",
    "print()\n",
    "print('y:')\n",
    "print(y.head())\n",
    "print()\n",
    "print('X:')\n",
    "print(X.head())\n",
    "print()"
   ]
  },
  {
   "cell_type": "markdown",
   "metadata": {},
   "source": [
    "### Diviser le jeu de données en train set et test set"
   ]
  },
  {
   "cell_type": "code",
   "execution_count": 9,
   "metadata": {},
   "outputs": [
    {
     "name": "stdout",
     "output_type": "stream",
     "text": [
      "Dividing into train set and test set...\n",
      "...Done\n",
      "\n"
     ]
    }
   ],
   "source": [
    "# Divide dataset into train set and test set:\n",
    "print('Dividing into train set and test set...')\n",
    "X_train, X_test, y_train, y_test = train_test_split(X, y, test_size=0.2, random_state=0)\n",
    "print('...Done')\n",
    "print()"
   ]
  },
  {
   "cell_type": "markdown",
   "metadata": {},
   "source": [
    "### Distinguer les variables numériques et catégorielles"
   ]
  },
  {
   "cell_type": "code",
   "execution_count": 10,
   "metadata": {},
   "outputs": [],
   "source": [
    "# Distinguish numeric and categorical features:\n",
    "numeric_features = ['mileage', 'engine_power']\n",
    "categorical_features = ['model_key', 'fuel', 'paint_color', 'car_type', 'private_parking_available', 'has_gps', 'has_air_conditioning', 'automatic_car', 'has_getaround_connect', 'has_speed_regulator', 'winter_tires']\n",
    "\n",
    "# Create pipeline for numeric features:\n",
    "numeric_transformer = Pipeline(steps=[\n",
    "    ('scaler', StandardScaler())\n",
    "])\n",
    "\n",
    "# Create pipeline for categorical features:\n",
    "categorical_transformer = Pipeline(steps=[\n",
    "    ('encoder', OneHotEncoder(drop='first', handle_unknown='ignore'))\n",
    "])\n",
    "\n",
    "# Use ColumnTransformer to make a preprocessor object that describes all the treatments to be done:\n",
    "preprocessor = ColumnTransformer(\n",
    "    transformers=[\n",
    "        ('num', numeric_transformer, numeric_features),\n",
    "        ('cat', categorical_transformer, categorical_features)\n",
    "    ]\n",
    ")"
   ]
  },
  {
   "cell_type": "markdown",
   "metadata": {},
   "source": [
    "### Application des preprocessings"
   ]
  },
  {
   "cell_type": "code",
   "execution_count": 11,
   "metadata": {},
   "outputs": [
    {
     "name": "stdout",
     "output_type": "stream",
     "text": [
      "Performing preprocessings on train set...\n",
      "     model_key  mileage  engine_power    fuel paint_color car_type  \\\n",
      "4550       BMW   132485           135  diesel       white      suv   \n",
      "1237   Citroën   131121           135  diesel       black   estate   \n",
      "3158   Renault   209216           135  diesel        grey    sedan   \n",
      "900    Peugeot   148986           100  diesel       black   estate   \n",
      "933    Citroën   170500           135  diesel       black   estate   \n",
      "\n",
      "      private_parking_available  has_gps  has_air_conditioning  automatic_car  \\\n",
      "4550                       True     True                 False          False   \n",
      "1237                      False     True                 False          False   \n",
      "3158                       True     True                 False          False   \n",
      "900                        True     True                 False          False   \n",
      "933                        True     True                 False          False   \n",
      "\n",
      "      has_getaround_connect  has_speed_regulator  winter_tires  \n",
      "4550                  False                False          True  \n",
      "1237                   True                False          True  \n",
      "3158                   True                False          True  \n",
      "900                   False                False          True  \n",
      "933                   False                False          True  \n",
      "...Done\n",
      "  (0, 0)\t-0.13697524611219603\n",
      "  (0, 1)\t0.16120867170881872\n",
      "  (0, 3)\t1.0\n",
      "  (0, 38)\t1.0\n",
      "  (0, 44)\t1.0\n",
      "  (0, 46)\t1.0\n",
      "  (0, 47)\t1.0\n",
      "  (0, 52)\t1.0\n",
      "  (1, 0)\t-0.1601928122265152\n",
      "  (1, 1)\t0.16120867170881872\n",
      "  (1, 4)\t1.0\n",
      "  (1, 30)\t1.0\n",
      "  (1, 40)\t1.0\n",
      "  (1, 47)\t1.0\n",
      "  (1, 50)\t1.0\n",
      "  (1, 52)\t1.0\n",
      "  (2, 0)\t1.1691149778744785\n",
      "  (2, 1)\t0.16120867170881872\n",
      "  (2, 20)\t1.0\n",
      "  (2, 34)\t1.0\n",
      "  (2, 42)\t1.0\n",
      "  (2, 46)\t1.0\n",
      "  (2, 47)\t1.0\n",
      "  (2, 50)\t1.0\n",
      "  (2, 52)\t1.0\n",
      "  (3, 0)\t0.14389943017254048\n",
      "  (3, 1)\t-0.7407589686724106\n",
      "  (3, 18)\t1.0\n",
      "  (3, 30)\t1.0\n",
      "  (3, 40)\t1.0\n",
      "  (3, 46)\t1.0\n",
      "  (3, 47)\t1.0\n",
      "  (3, 52)\t1.0\n",
      "  (4, 0)\t0.510103768430211\n",
      "  (4, 1)\t0.16120867170881872\n",
      "  (4, 4)\t1.0\n",
      "  (4, 30)\t1.0\n",
      "  (4, 40)\t1.0\n",
      "  (4, 46)\t1.0\n",
      "  (4, 47)\t1.0\n",
      "  (4, 52)\t1.0\n",
      "\n",
      "Performing preprocessings on test set:\n",
      "     model_key  mileage  engine_power    fuel paint_color   car_type  \\\n",
      "1621   Renault   193231            85  diesel       black     estate   \n",
      "4098       BMW    69362           135  diesel        grey        suv   \n",
      "3135      Audi   321498           170  diesel        blue      sedan   \n",
      "1861   Citroën   192063            90  diesel       black  hatchback   \n",
      "1571   Peugeot   164659           100  diesel       white     estate   \n",
      "\n",
      "      private_parking_available  has_gps  has_air_conditioning  automatic_car  \\\n",
      "1621                      False     True                 False          False   \n",
      "4098                       True     True                 False           True   \n",
      "3135                       True     True                  True          False   \n",
      "1861                      False    False                 False          False   \n",
      "1571                       True     True                 False          False   \n",
      "\n",
      "      has_getaround_connect  has_speed_regulator  winter_tires  \n",
      "1621                  False                False          True  \n",
      "4098                   True                 True          True  \n",
      "3135                   True                 True          True  \n",
      "1861                  False                False          True  \n",
      "1571                  False                False          True  \n",
      "...Done\n",
      "  (0, 0)\t0.8970234864247778\n",
      "  (0, 1)\t-1.1273165288357947\n",
      "  (0, 20)\t1.0\n",
      "  (0, 30)\t1.0\n",
      "  (0, 40)\t1.0\n",
      "  (0, 47)\t1.0\n",
      "  (0, 52)\t1.0\n",
      "  (1, 0)\t-1.2114345025888595\n",
      "  (1, 1)\t0.16120867170881872\n",
      "  (1, 3)\t1.0\n",
      "  (1, 34)\t1.0\n",
      "  (1, 44)\t1.0\n",
      "  (1, 46)\t1.0\n",
      "  (1, 47)\t1.0\n",
      "  (1, 49)\t1.0\n",
      "  (1, 50)\t1.0\n",
      "  (1, 51)\t1.0\n",
      "  (1, 52)\t1.0\n",
      "  (2, 0)\t3.080342806648661\n",
      "  (2, 1)\t1.0631763120900481\n",
      "  (2, 2)\t1.0\n",
      "  (2, 31)\t1.0\n",
      "  (2, 42)\t1.0\n",
      "  (2, 46)\t1.0\n",
      "  (2, 47)\t1.0\n",
      "  (2, 48)\t1.0\n",
      "  (2, 50)\t1.0\n",
      "  (2, 51)\t1.0\n",
      "  (2, 52)\t1.0\n",
      "  (3, 0)\t0.8771421688136892\n",
      "  (3, 1)\t-0.9984640087813332\n",
      "  (3, 4)\t1.0\n",
      "  (3, 30)\t1.0\n",
      "  (3, 41)\t1.0\n",
      "  (3, 52)\t1.0\n",
      "  (4, 0)\t0.41068015869873137\n",
      "  (4, 1)\t-0.7407589686724106\n",
      "  (4, 18)\t1.0\n",
      "  (4, 38)\t1.0\n",
      "  (4, 40)\t1.0\n",
      "  (4, 46)\t1.0\n",
      "  (4, 47)\t1.0\n",
      "  (4, 52)\t1.0\n",
      "\n"
     ]
    }
   ],
   "source": [
    "# Preprocessings on train set:\n",
    "print('Performing preprocessings on train set...')\n",
    "print(X_train.head())\n",
    "X_train = preprocessor.fit_transform(X_train)\n",
    "print('...Done')\n",
    "print(X_train[0:5])\n",
    "print()\n",
    "\n",
    "# Preprocessings on test set:\n",
    "print('Performing preprocessings on test set:')\n",
    "print(X_test.head())\n",
    "X_test = preprocessor.transform(X_test)\n",
    "print('...Done')\n",
    "print(X_test[0:5])\n",
    "print()"
   ]
  },
  {
   "cell_type": "markdown",
   "metadata": {},
   "source": [
    "## Entraînement d'un modèle de base\n",
    "\n",
    "Nous entraînons un modèle de régression linéaire."
   ]
  },
  {
   "cell_type": "code",
   "execution_count": 12,
   "metadata": {},
   "outputs": [
    {
     "name": "stdout",
     "output_type": "stream",
     "text": [
      "Training model...\n",
      "...Done\n"
     ]
    }
   ],
   "source": [
    "# Model training:\n",
    "baseline = LinearRegression()\n",
    "print('Training model...')\n",
    "baseline.fit(X_train, y_train)\n",
    "print('...Done')"
   ]
  },
  {
   "cell_type": "markdown",
   "metadata": {},
   "source": [
    "## Prédictions"
   ]
  },
  {
   "cell_type": "code",
   "execution_count": 13,
   "metadata": {},
   "outputs": [
    {
     "name": "stdout",
     "output_type": "stream",
     "text": [
      "Prediction on training set...\n",
      "...Done\n",
      "[[132.11472904]\n",
      " [118.97972318]\n",
      " [118.29209294]\n",
      " [101.0444328 ]\n",
      " [104.69670365]]\n",
      "\n"
     ]
    }
   ],
   "source": [
    "# Predictions on training set:\n",
    "print('Prediction on training set...')\n",
    "y_train_pred = baseline.predict(X_train)\n",
    "print('...Done')\n",
    "print(y_train_pred[0:5])\n",
    "print()"
   ]
  },
  {
   "cell_type": "code",
   "execution_count": 14,
   "metadata": {},
   "outputs": [
    {
     "name": "stdout",
     "output_type": "stream",
     "text": [
      "Prediction on test set...\n",
      "...Done\n",
      "[[ 91.36911628]\n",
      " [157.56519238]\n",
      " [105.17967036]\n",
      " [ 72.2206298 ]\n",
      " [100.58722405]]\n",
      "\n"
     ]
    }
   ],
   "source": [
    "# Predictions on test set:\n",
    "print('Prediction on test set...')\n",
    "y_test_pred = baseline.predict(X_test)\n",
    "print('...Done')\n",
    "print(y_test_pred[0:5])\n",
    "print()"
   ]
  },
  {
   "cell_type": "markdown",
   "metadata": {},
   "source": [
    "## Évaluation des performances du modèle\n",
    "\n",
    "Nous utilisons la métrique R2 pour évaluer la performance de notre modèle.\n",
    "\n",
    "Nous examinons l'écart entre la prédiction et la valeur réelle avec la MSE et la RMSE."
   ]
  },
  {
   "cell_type": "code",
   "execution_count": 15,
   "metadata": {},
   "outputs": [],
   "source": [
    "# Compute scores: \n",
    "r2 = baseline.score(X_train, y_train)\n",
    "r2_test = baseline.score(X_test, y_test)\n",
    "mse = mean_squared_error(y_train, y_train_pred)\n",
    "mse_test = mean_squared_error(y_test, y_test_pred)"
   ]
  },
  {
   "cell_type": "code",
   "execution_count": 17,
   "metadata": {},
   "outputs": [
    {
     "name": "stdout",
     "output_type": "stream",
     "text": [
      "BASELINE, R2 score on train set: 0.7156703436007328\n",
      "BASELINE, R2 score on test set: 0.6892820715977412\n",
      "\n",
      "BASELINE, MSE score on train set :  323.21284639020604\n",
      "BASELINE, MSE score on test set :  337.41848561594884\n",
      "\n",
      "BASELINE, RMSE score on train set :  17.97812132538342\n",
      "BASELINE, RMSE score on test set :  18.368954396370764\n"
     ]
    }
   ],
   "source": [
    "# Print scores:\n",
    "print('BASELINE, R2 score on train set:', baseline.score(X_train, y_train))\n",
    "print('BASELINE, R2 score on test set:', baseline.score(X_test, y_test))\n",
    "print()\n",
    "print(\"BASELINE, MSE score on train set : \", mse)\n",
    "print(\"BASELINE, MSE score on test set : \", mse_test)\n",
    "print()\n",
    "print(\"BASELINE, RMSE score on train set : \", np.sqrt(mse))\n",
    "print(\"BASELINE, RMSE score on test set : \", np.sqrt(mse_test))"
   ]
  },
  {
   "cell_type": "markdown",
   "metadata": {},
   "source": [
    "### Résultats :\n",
    "\n",
    "- Le R2 score est correct mais pas excellent : 0.71.\n",
    "\n",
    "- On observe que les scores sur le train set sont meilleurs que les scores du test set. \n",
    "\n",
    "- --> Nous avons de l'overfitting, le modèle sur-apprend et a des difficultés à généraliser."
   ]
  },
  {
   "cell_type": "markdown",
   "metadata": {},
   "source": [
    "## Importance des features"
   ]
  },
  {
   "cell_type": "code",
   "execution_count": 253,
   "metadata": {},
   "outputs": [],
   "source": [
    "# Get the names and coefficients of the features:\n",
    "feature_names_out = preprocessor.get_feature_names_out()\n",
    "feature_names = [fname for fname in feature_names_out]\n",
    "coefs = pd.DataFrame(index = feature_names, data = baseline.coef_.transpose(), columns=[\"coefficients\"])"
   ]
  },
  {
   "cell_type": "code",
   "execution_count": 254,
   "metadata": {},
   "outputs": [
    {
     "name": "stdout",
     "output_type": "stream",
     "text": [
      "53\n"
     ]
    }
   ],
   "source": [
    "feature_importance = coefs.sort_values(by='coefficients', ascending=False)\n",
    "print(len(feature_importance))\n",
    "negative_coefs = feature_importance[feature_importance['coefficients']<0]"
   ]
  },
  {
   "cell_type": "code",
   "execution_count": 255,
   "metadata": {},
   "outputs": [
    {
     "data": {
      "text/html": [
       "<div>\n",
       "<style scoped>\n",
       "    .dataframe tbody tr th:only-of-type {\n",
       "        vertical-align: middle;\n",
       "    }\n",
       "\n",
       "    .dataframe tbody tr th {\n",
       "        vertical-align: top;\n",
       "    }\n",
       "\n",
       "    .dataframe thead th {\n",
       "        text-align: right;\n",
       "    }\n",
       "</style>\n",
       "<table border=\"1\" class=\"dataframe\">\n",
       "  <thead>\n",
       "    <tr style=\"text-align: right;\">\n",
       "      <th></th>\n",
       "      <th>cat__model_key_Honda</th>\n",
       "      <th>cat__model_key_Suzuki</th>\n",
       "      <th>cat__fuel_hybrid_petrol</th>\n",
       "      <th>cat__model_key_Maserati</th>\n",
       "      <th>cat__model_key_Yamaha</th>\n",
       "      <th>cat__model_key_SEAT</th>\n",
       "      <th>cat__model_key_Fiat</th>\n",
       "      <th>cat__model_key_Toyota</th>\n",
       "      <th>cat__car_type_van</th>\n",
       "      <th>cat__model_key_Opel</th>\n",
       "      <th>...</th>\n",
       "      <th>cat__paint_color_red</th>\n",
       "      <th>cat__car_type_sedan</th>\n",
       "      <th>cat__model_key_Nissan</th>\n",
       "      <th>cat__paint_color_brown</th>\n",
       "      <th>cat__paint_color_blue</th>\n",
       "      <th>cat__has_air_conditioning_1</th>\n",
       "      <th>cat__private_parking_available_1</th>\n",
       "      <th>cat__model_key_Lamborghini</th>\n",
       "      <th>cat__paint_color_black</th>\n",
       "      <th>cat__paint_color_grey</th>\n",
       "    </tr>\n",
       "  </thead>\n",
       "  <tbody>\n",
       "    <tr>\n",
       "      <th>coefficients</th>\n",
       "      <td>63.341485</td>\n",
       "      <td>40.05879</td>\n",
       "      <td>38.533721</td>\n",
       "      <td>36.695858</td>\n",
       "      <td>36.526594</td>\n",
       "      <td>34.294238</td>\n",
       "      <td>32.964875</td>\n",
       "      <td>28.045712</td>\n",
       "      <td>26.019922</td>\n",
       "      <td>24.431297</td>\n",
       "      <td>...</td>\n",
       "      <td>3.013649</td>\n",
       "      <td>2.649834</td>\n",
       "      <td>2.385572</td>\n",
       "      <td>2.229498</td>\n",
       "      <td>1.925486</td>\n",
       "      <td>1.19844</td>\n",
       "      <td>0.645281</td>\n",
       "      <td>0.562753</td>\n",
       "      <td>0.476977</td>\n",
       "      <td>0.410989</td>\n",
       "    </tr>\n",
       "  </tbody>\n",
       "</table>\n",
       "<p>1 rows × 53 columns</p>\n",
       "</div>"
      ],
      "text/plain": [
       "              cat__model_key_Honda  cat__model_key_Suzuki  \\\n",
       "coefficients             63.341485               40.05879   \n",
       "\n",
       "              cat__fuel_hybrid_petrol  cat__model_key_Maserati  \\\n",
       "coefficients                38.533721                36.695858   \n",
       "\n",
       "              cat__model_key_Yamaha  cat__model_key_SEAT  cat__model_key_Fiat  \\\n",
       "coefficients              36.526594            34.294238            32.964875   \n",
       "\n",
       "              cat__model_key_Toyota  cat__car_type_van  cat__model_key_Opel  \\\n",
       "coefficients              28.045712          26.019922            24.431297   \n",
       "\n",
       "              ...  cat__paint_color_red  cat__car_type_sedan  \\\n",
       "coefficients  ...              3.013649             2.649834   \n",
       "\n",
       "              cat__model_key_Nissan  cat__paint_color_brown  \\\n",
       "coefficients               2.385572                2.229498   \n",
       "\n",
       "              cat__paint_color_blue  cat__has_air_conditioning_1  \\\n",
       "coefficients               1.925486                      1.19844   \n",
       "\n",
       "              cat__private_parking_available_1  cat__model_key_Lamborghini  \\\n",
       "coefficients                          0.645281                    0.562753   \n",
       "\n",
       "              cat__paint_color_black  cat__paint_color_grey  \n",
       "coefficients                0.476977               0.410989  \n",
       "\n",
       "[1 rows x 53 columns]"
      ]
     },
     "execution_count": 255,
     "metadata": {},
     "output_type": "execute_result"
    }
   ],
   "source": [
    "# Compute abs() and sort values:\n",
    "feature_importance_abs = abs(coefs).sort_values(by='coefficients', ascending=False)\n",
    "feature_importance_abs = feature_importance_abs.transpose()\n",
    "feature_importance_abs"
   ]
  },
  {
   "cell_type": "code",
   "execution_count": 256,
   "metadata": {},
   "outputs": [
    {
     "data": {
      "image/png": "[encoded data removed]",
      "text/plain": [
       "<Figure size 1200x500 with 1 Axes>"
      ]
     },
     "metadata": {},
     "output_type": "display_data"
    }
   ],
   "source": [
    "# Plot coefficients (in absolute value):\n",
    "import seaborn as sns\n",
    "import matplotlib.pyplot as plt \n",
    "\n",
    "colors = ['red' if y in negative_coefs.index else 'limegreen' for y in feature_importance_abs.columns]\n",
    "sns.set(rc={'figure.figsize':(12, 5)}, style='white')\n",
    "sns.barplot(data = feature_importance_abs,orient = 'v', palette = colors, width = .9, edgecolor = 'black')\n",
    "plt.title('Features importance in the Baseline Model', fontsize=12.5, pad=20)\n",
    "plt.xlabel('Colors : red for negative coefficients / green for positive coefficients', fontsize=11)\n",
    "plt.ylabel('Coefficients (absolute value)', fontsize=10)\n",
    "plt.xticks(fontsize=9, fontweight='bold', rotation=45, ha='right')\n",
    "plt.xticks(feature_importance_abs.columns, fontsize=8, fontweight='normal', rotation=45, ha=\"right\")\n",
    "plt.legend('', frameon=False)\n",
    "plt.show()"
   ]
  },
  {
   "cell_type": "markdown",
   "metadata": {},
   "source": [
    "#  Entraînement d'un modèle régularisé\n",
    "\n",
    "Nous essayons de combattre l'overfitting en introduisant une régularisation."
   ]
  },
  {
   "cell_type": "markdown",
   "metadata": {},
   "source": [
    "## A. Modèle Lasso\n",
    "\n",
    "Nous testons un modèle de régression linéaire régularisé Lasso.\n",
    "\n",
    "L'étude de l'importance des features nous a montré que les prédictions sont calculées à partir de 53 features différentes.\n",
    "\n",
    "Ce nombre de features est important. Lasso permettra de simplifier le modèle en supprimant certaines features en y appliquant un poids de 0."
   ]
  },
  {
   "cell_type": "markdown",
   "metadata": {},
   "source": [
    "## Recherche du meilleur alpha\n",
    "\n",
    "Nous recherchons le meilleur hyperparamètre de régularisation alpha pour notre modèle de régression linéaire Lasso."
   ]
  },
  {
   "cell_type": "code",
   "execution_count": 19,
   "metadata": {},
   "outputs": [
    {
     "name": "stdout",
     "output_type": "stream",
     "text": [
      "{'alpha': 2}\n",
      "0.5894844074426526\n"
     ]
    }
   ],
   "source": [
    "from sklearn.linear_model import Lasso\n",
    "from sklearn.model_selection import cross_val_score, GridSearchCV\n",
    "\n",
    "alphas = [2, 10, 100]\n",
    "param_grid = {'alpha': alphas}\n",
    "lasso = Lasso()\n",
    "\n",
    "best_lasso = GridSearchCV(estimator=lasso, param_grid=param_grid, cv=5)\n",
    "best_lasso.fit(X_train, y_train)\n",
    "\n",
    "print(best_lasso.best_params_)\n",
    "print(best_lasso.best_score_)"
   ]
  },
  {
   "cell_type": "markdown",
   "metadata": {},
   "source": [
    "## Performance"
   ]
  },
  {
   "cell_type": "code",
   "execution_count": 20,
   "metadata": {},
   "outputs": [],
   "source": [
    "# Compute scores: \n",
    "y_train_pred = best_lasso.predict(X_train)\n",
    "y_test_pred = best_lasso.predict(X_test)\n",
    "\n",
    "r2 = best_lasso.score(X_train, y_train)\n",
    "r2_test = best_lasso.score(X_test, y_test)\n",
    "\n",
    "mse = mean_squared_error(y_train, y_train_pred)\n",
    "mse_test = mean_squared_error(y_test, y_test_pred)"
   ]
  },
  {
   "cell_type": "code",
   "execution_count": 21,
   "metadata": {},
   "outputs": [
    {
     "name": "stdout",
     "output_type": "stream",
     "text": [
      "LASSO, R2 score on train set :  0.5892312329002767\n",
      "LASSO, R2 score on test set :  0.5852142519022132\n",
      "\n",
      "LASSO, MSE score on train set :  466.94299885504097\n",
      "LASSO, MSE score on test set :  450.42904250135405\n",
      "\n",
      "LASSO, RMSE score on train set :  21.608863895518454\n",
      "LASSO, RMSE score on test set :  21.223313655067017\n"
     ]
    }
   ],
   "source": [
    "# Print scores:\n",
    "print(\"LASSO, R2 score on train set : \", r2)\n",
    "print(\"LASSO, R2 score on test set : \", r2_test)\n",
    "print()\n",
    "print(\"LASSO, MSE score on train set : \", mse)\n",
    "print(\"LASSO, MSE score on test set : \", mse_test)\n",
    "print()\n",
    "print(\"LASSO, RMSE score on train set : \", np.sqrt(mse))\n",
    "print(\"LASSO, RMSE score on test set : \", np.sqrt(mse_test))"
   ]
  },
  {
   "cell_type": "markdown",
   "metadata": {},
   "source": [
    "### Résultats : \n",
    "\n",
    "- Avec un hyperparamètre alpha de 2 on arrive à combattre l'overfitting. \n",
    "\n",
    "- Cependant le score obtenu est plutôt mauvais : R2 score de 0.58 en sur le train et le test set.\n",
    "\n",
    "- Par conséquent les erreurs MSE et RMSE ont augmenté : RMSE de 21 contre 18 avec le modèle de base."
   ]
  },
  {
   "cell_type": "markdown",
   "metadata": {},
   "source": [
    "## B. Modèle Ridge\n",
    "\n",
    "Nous testons un modèle de régression linéaire régularisé Ridge."
   ]
  },
  {
   "cell_type": "code",
   "execution_count": 22,
   "metadata": {},
   "outputs": [
    {
     "name": "stdout",
     "output_type": "stream",
     "text": [
      "{'alpha': 1300}\n",
      "0.6219623886104078\n"
     ]
    }
   ],
   "source": [
    "from sklearn.linear_model import Ridge\n",
    "from sklearn.model_selection import cross_val_score, GridSearchCV\n",
    "\n",
    "alphas = [1300, 2800, 5000]\n",
    "param_grid = {'alpha': alphas}\n",
    "ridge = Ridge()\n",
    "\n",
    "best_ridge = GridSearchCV(estimator=ridge, param_grid=param_grid, cv=15)\n",
    "best_ridge.fit(X_train, y_train)\n",
    "\n",
    "print(best_ridge.best_params_)\n",
    "print(best_ridge.best_score_)"
   ]
  },
  {
   "cell_type": "markdown",
   "metadata": {},
   "source": [
    "## Performance"
   ]
  },
  {
   "cell_type": "code",
   "execution_count": 23,
   "metadata": {},
   "outputs": [],
   "source": [
    "# Compute scores: \n",
    "y_train_pred = best_ridge.predict(X_train)\n",
    "y_test_pred = best_ridge.predict(X_test)\n",
    "\n",
    "r2 = best_ridge.score(X_train, y_train)\n",
    "r2_test = best_ridge.score(X_test, y_test)\n",
    "\n",
    "mse = mean_squared_error(y_train, y_train_pred)\n",
    "mse_test = mean_squared_error(y_test, y_test_pred)"
   ]
  },
  {
   "cell_type": "code",
   "execution_count": 24,
   "metadata": {},
   "outputs": [
    {
     "name": "stdout",
     "output_type": "stream",
     "text": [
      "RIDGE, R2 score on train set :  0.6259910595320968\n",
      "RIDGE, R2 score on test set :  0.6226177033241779\n",
      "\n",
      "RIDGE, MSE score on train set :  425.1561224913706\n",
      "RIDGE, MSE score on test set :  409.8114444100387\n",
      "\n",
      "RIDGE, RMSE score on train set :  20.619314307012505\n",
      "RIDGE, RMSE score on test set :  20.24380014745351\n"
     ]
    }
   ],
   "source": [
    "# Print scores:\n",
    "print(\"RIDGE, R2 score on train set : \", r2)\n",
    "print(\"RIDGE, R2 score on test set : \", r2_test)\n",
    "print()\n",
    "print(\"RIDGE, MSE score on train set : \", mse)\n",
    "print(\"RIDGE, MSE score on test set : \", mse_test)\n",
    "print()\n",
    "print(\"RIDGE, RMSE score on train set : \", np.sqrt(mse))\n",
    "print(\"RIDGE, RMSE score on test set : \", np.sqrt(mse_test))"
   ]
  },
  {
   "cell_type": "markdown",
   "metadata": {},
   "source": [
    "### Résultats :\n",
    "\n",
    "- Avec un hyperparamètre alpha de 1300 on arrive à combattre l'overfitting. \n",
    "\n",
    "- Le score obtenu est un peu meilleur qu'avec le modèle Lasso : R2 score de 0.62 contre 0.58 avec le modèle Lasso.\n",
    "\n",
    "- Les erreurs MSE et RMSE restent toutefois supérieures au modèle de base : RMSE de 20 contre 18 avec le modèle de base."
   ]
  },
  {
   "cell_type": "markdown",
   "metadata": {},
   "source": [
    "## Conclusion\n",
    "\n",
    "- Les modèles Lasso et Ridge ont permis de combattre l'overfitting.\n",
    "\n",
    "- Mais les scores R2, MSE et RMSE sont moins bons par rapport au modèle de base.\n",
    "\n",
    "- Étant donné que l'overfitting est léger, nous décidons de conserver le modèle de base pour effectuer nos prédictions."
   ]
  },
  {
   "cell_type": "code",
   "execution_count": null,
   "metadata": {},
   "outputs": [],
   "source": []
  }
 ],
 "metadata": {
  "kernelspec": {
   "display_name": "ml",
   "language": "python",
   "name": "python3"
  },
  "language_info": {
   "codemirror_mode": {
    "name": "ipython",
    "version": 3
   },
   "file_extension": ".py",
   "mimetype": "text/x-python",
   "name": "python",
   "nbconvert_exporter": "python",
   "pygments_lexer": "ipython3",
   "version": "3.12.1"
  }
 },
 "nbformat": 4,
 "nbformat_minor": 2
}
