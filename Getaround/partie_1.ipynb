{
 "cells": [
  {
   "cell_type": "markdown",
   "metadata": {},
   "source": [
    "# PARTIE 1 : Analyse exploratoire des données"
   ]
  },
  {
   "cell_type": "markdown",
   "metadata": {},
   "source": [
    "## Import librairies"
   ]
  },
  {
   "cell_type": "code",
   "execution_count": 1,
   "metadata": {},
   "outputs": [],
   "source": [
    "import pandas as pd\n",
    "import numpy as np\n",
    "import matplotlib.pyplot as plt\n",
    "import seaborn as sns\n",
    "import warnings\n",
    "\n",
    "warnings.filterwarnings('ignore', category=DeprecationWarning)\n",
    "warnings.filterwarnings('ignore', category=FutureWarning)"
   ]
  },
  {
   "cell_type": "markdown",
   "metadata": {},
   "source": [
    "## Lecture des données"
   ]
  },
  {
   "cell_type": "code",
   "execution_count": 2,
   "metadata": {},
   "outputs": [],
   "source": [
    "data = pd.read_csv('./src/rentals_data.csv', sep=';')"
   ]
  },
  {
   "cell_type": "code",
   "execution_count": 3,
   "metadata": {},
   "outputs": [
    {
     "name": "stdout",
     "output_type": "stream",
     "text": [
      "(21310, 7)\n"
     ]
    },
    {
     "data": {
      "text/plain": [
       "rental_id                                      0.000000\n",
       "car_id                                         0.000000\n",
       "checkin_type                                   0.000000\n",
       "state                                          0.000000\n",
       "delay_at_checkout_in_minutes                  23.294228\n",
       "previous_ended_rental_id                      91.360863\n",
       "time_delta_with_previous_rental_in_minutes    91.360863\n",
       "dtype: float64"
      ]
     },
     "execution_count": 3,
     "metadata": {},
     "output_type": "execute_result"
    }
   ],
   "source": [
    "print(data.shape)\n",
    "data.isna().sum()/data.shape[0]*100"
   ]
  },
  {
   "cell_type": "code",
   "execution_count": 4,
   "metadata": {},
   "outputs": [
    {
     "data": {
      "text/plain": [
       "rental_id                                     1.000000\n",
       "car_id                                        1.000000\n",
       "checkin_type                                  1.000000\n",
       "state                                         1.000000\n",
       "delay_at_checkout_in_minutes                  0.767058\n",
       "previous_ended_rental_id                      0.086391\n",
       "time_delta_with_previous_rental_in_minutes    0.086391\n",
       "dtype: float64"
      ]
     },
     "execution_count": 4,
     "metadata": {},
     "output_type": "execute_result"
    }
   ],
   "source": [
    "data.count()/len(data.index)"
   ]
  },
  {
   "cell_type": "markdown",
   "metadata": {},
   "source": [
    "## Valeurs erronnées"
   ]
  },
  {
   "cell_type": "code",
   "execution_count": 5,
   "metadata": {},
   "outputs": [],
   "source": [
    "data.drop([21002], axis=0, inplace=True)"
   ]
  },
  {
   "cell_type": "code",
   "execution_count": 6,
   "metadata": {},
   "outputs": [],
   "source": [
    "data.rename(columns={'delay_at_checkout_in_minutes': 'delay', \n",
    "                     'previous_ended_rental_id': 'previous_id', \n",
    "                     'time_delta_with_previous_rental_in_minutes': 'time_gap'}, \n",
    "                      inplace = True)"
   ]
  },
  {
   "cell_type": "code",
   "execution_count": 7,
   "metadata": {},
   "outputs": [],
   "source": [
    "df = data.copy()\n",
    "df = df.fillna(0)"
   ]
  },
  {
   "cell_type": "code",
   "execution_count": 8,
   "metadata": {},
   "outputs": [],
   "source": [
    "df['canceled'] = df['state'].apply(lambda x: 1 if x == 'canceled' else 0)\n",
    "df['delayed'] = df['delay'].apply(lambda x: 1 if x > 0 else 0)\n",
    "df['previous'] = df['previous_id'].apply(lambda x: 1 if x != 0 else 0)\n",
    "df['previous_id'] = df['previous_id'].astype(int)"
   ]
  },
  {
   "cell_type": "code",
   "execution_count": 9,
   "metadata": {},
   "outputs": [
    {
     "data": {
      "text/plain": [
       "rental_id         int64\n",
       "car_id            int64\n",
       "checkin_type     object\n",
       "state            object\n",
       "delay           float64\n",
       "previous_id       int64\n",
       "time_gap        float64\n",
       "canceled          int64\n",
       "delayed           int64\n",
       "previous          int64\n",
       "dtype: object"
      ]
     },
     "execution_count": 9,
     "metadata": {},
     "output_type": "execute_result"
    }
   ],
   "source": [
    "df.dtypes"
   ]
  },
  {
   "cell_type": "code",
   "execution_count": 10,
   "metadata": {},
   "outputs": [],
   "source": [
    "df.to_csv('./src/rentals_data_clean.csv', index=False)"
   ]
  },
  {
   "cell_type": "markdown",
   "metadata": {},
   "source": [
    "## Statistiques basiques"
   ]
  },
  {
   "cell_type": "code",
   "execution_count": 116,
   "metadata": {},
   "outputs": [],
   "source": [
    "df = pd.read_csv('./src/rentals_data_clean.csv')"
   ]
  },
  {
   "cell_type": "code",
   "execution_count": 10,
   "metadata": {},
   "outputs": [
    {
     "data": {
      "text/html": [
       "<div>\n",
       "<style scoped>\n",
       "    .dataframe tbody tr th:only-of-type {\n",
       "        vertical-align: middle;\n",
       "    }\n",
       "\n",
       "    .dataframe tbody tr th {\n",
       "        vertical-align: top;\n",
       "    }\n",
       "\n",
       "    .dataframe thead th {\n",
       "        text-align: right;\n",
       "    }\n",
       "</style>\n",
       "<table border=\"1\" class=\"dataframe\">\n",
       "  <thead>\n",
       "    <tr style=\"text-align: right;\">\n",
       "      <th></th>\n",
       "      <th>rental_id</th>\n",
       "      <th>car_id</th>\n",
       "      <th>checkin_type</th>\n",
       "      <th>state</th>\n",
       "      <th>delay</th>\n",
       "      <th>previous_id</th>\n",
       "      <th>time_gap</th>\n",
       "      <th>canceled</th>\n",
       "      <th>delayed</th>\n",
       "      <th>previous</th>\n",
       "    </tr>\n",
       "  </thead>\n",
       "  <tbody>\n",
       "    <tr>\n",
       "      <th>count</th>\n",
       "      <td>21309.000000</td>\n",
       "      <td>21309.000000</td>\n",
       "      <td>21309</td>\n",
       "      <td>21309</td>\n",
       "      <td>21309.000000</td>\n",
       "      <td>21309.000000</td>\n",
       "      <td>21309.000000</td>\n",
       "      <td>21309.000000</td>\n",
       "      <td>21309.000000</td>\n",
       "      <td>21309.000000</td>\n",
       "    </tr>\n",
       "    <tr>\n",
       "      <th>unique</th>\n",
       "      <td>NaN</td>\n",
       "      <td>NaN</td>\n",
       "      <td>2</td>\n",
       "      <td>2</td>\n",
       "      <td>NaN</td>\n",
       "      <td>NaN</td>\n",
       "      <td>NaN</td>\n",
       "      <td>NaN</td>\n",
       "      <td>NaN</td>\n",
       "      <td>NaN</td>\n",
       "    </tr>\n",
       "    <tr>\n",
       "      <th>top</th>\n",
       "      <td>NaN</td>\n",
       "      <td>NaN</td>\n",
       "      <td>mobile</td>\n",
       "      <td>ended</td>\n",
       "      <td>NaN</td>\n",
       "      <td>NaN</td>\n",
       "      <td>NaN</td>\n",
       "      <td>NaN</td>\n",
       "      <td>NaN</td>\n",
       "      <td>NaN</td>\n",
       "    </tr>\n",
       "    <tr>\n",
       "      <th>freq</th>\n",
       "      <td>NaN</td>\n",
       "      <td>NaN</td>\n",
       "      <td>17002</td>\n",
       "      <td>18045</td>\n",
       "      <td>NaN</td>\n",
       "      <td>NaN</td>\n",
       "      <td>NaN</td>\n",
       "      <td>NaN</td>\n",
       "      <td>NaN</td>\n",
       "      <td>NaN</td>\n",
       "    </tr>\n",
       "    <tr>\n",
       "      <th>mean</th>\n",
       "      <td>549712.438594</td>\n",
       "      <td>350029.218405</td>\n",
       "      <td>NaN</td>\n",
       "      <td>NaN</td>\n",
       "      <td>46.616406</td>\n",
       "      <td>47528.488667</td>\n",
       "      <td>24.129241</td>\n",
       "      <td>0.153175</td>\n",
       "      <td>0.441316</td>\n",
       "      <td>0.086395</td>\n",
       "    </tr>\n",
       "    <tr>\n",
       "      <th>std</th>\n",
       "      <td>13863.622290</td>\n",
       "      <td>58207.264418</td>\n",
       "      <td>NaN</td>\n",
       "      <td>NaN</td>\n",
       "      <td>870.206204</td>\n",
       "      <td>154608.854714</td>\n",
       "      <td>108.417324</td>\n",
       "      <td>0.360164</td>\n",
       "      <td>0.496556</td>\n",
       "      <td>0.280954</td>\n",
       "    </tr>\n",
       "    <tr>\n",
       "      <th>min</th>\n",
       "      <td>504806.000000</td>\n",
       "      <td>159250.000000</td>\n",
       "      <td>NaN</td>\n",
       "      <td>NaN</td>\n",
       "      <td>-22433.000000</td>\n",
       "      <td>0.000000</td>\n",
       "      <td>0.000000</td>\n",
       "      <td>0.000000</td>\n",
       "      <td>0.000000</td>\n",
       "      <td>0.000000</td>\n",
       "    </tr>\n",
       "    <tr>\n",
       "      <th>25%</th>\n",
       "      <td>540613.000000</td>\n",
       "      <td>317639.000000</td>\n",
       "      <td>NaN</td>\n",
       "      <td>NaN</td>\n",
       "      <td>-16.000000</td>\n",
       "      <td>0.000000</td>\n",
       "      <td>0.000000</td>\n",
       "      <td>0.000000</td>\n",
       "      <td>0.000000</td>\n",
       "      <td>0.000000</td>\n",
       "    </tr>\n",
       "    <tr>\n",
       "      <th>50%</th>\n",
       "      <td>550349.000000</td>\n",
       "      <td>368710.000000</td>\n",
       "      <td>NaN</td>\n",
       "      <td>NaN</td>\n",
       "      <td>0.000000</td>\n",
       "      <td>0.000000</td>\n",
       "      <td>0.000000</td>\n",
       "      <td>0.000000</td>\n",
       "      <td>0.000000</td>\n",
       "      <td>0.000000</td>\n",
       "    </tr>\n",
       "    <tr>\n",
       "      <th>75%</th>\n",
       "      <td>560469.000000</td>\n",
       "      <td>394928.000000</td>\n",
       "      <td>NaN</td>\n",
       "      <td>NaN</td>\n",
       "      <td>41.000000</td>\n",
       "      <td>0.000000</td>\n",
       "      <td>0.000000</td>\n",
       "      <td>0.000000</td>\n",
       "      <td>1.000000</td>\n",
       "      <td>0.000000</td>\n",
       "    </tr>\n",
       "    <tr>\n",
       "      <th>max</th>\n",
       "      <td>576401.000000</td>\n",
       "      <td>417675.000000</td>\n",
       "      <td>NaN</td>\n",
       "      <td>NaN</td>\n",
       "      <td>71084.000000</td>\n",
       "      <td>575053.000000</td>\n",
       "      <td>720.000000</td>\n",
       "      <td>1.000000</td>\n",
       "      <td>1.000000</td>\n",
       "      <td>1.000000</td>\n",
       "    </tr>\n",
       "  </tbody>\n",
       "</table>\n",
       "</div>"
      ],
      "text/plain": [
       "            rental_id         car_id checkin_type  state         delay  \\\n",
       "count    21309.000000   21309.000000        21309  21309  21309.000000   \n",
       "unique            NaN            NaN            2      2           NaN   \n",
       "top               NaN            NaN       mobile  ended           NaN   \n",
       "freq              NaN            NaN        17002  18045           NaN   \n",
       "mean    549712.438594  350029.218405          NaN    NaN     46.616406   \n",
       "std      13863.622290   58207.264418          NaN    NaN    870.206204   \n",
       "min     504806.000000  159250.000000          NaN    NaN -22433.000000   \n",
       "25%     540613.000000  317639.000000          NaN    NaN    -16.000000   \n",
       "50%     550349.000000  368710.000000          NaN    NaN      0.000000   \n",
       "75%     560469.000000  394928.000000          NaN    NaN     41.000000   \n",
       "max     576401.000000  417675.000000          NaN    NaN  71084.000000   \n",
       "\n",
       "          previous_id      time_gap      canceled       delayed      previous  \n",
       "count    21309.000000  21309.000000  21309.000000  21309.000000  21309.000000  \n",
       "unique            NaN           NaN           NaN           NaN           NaN  \n",
       "top               NaN           NaN           NaN           NaN           NaN  \n",
       "freq              NaN           NaN           NaN           NaN           NaN  \n",
       "mean     47528.488667     24.129241      0.153175      0.441316      0.086395  \n",
       "std     154608.854714    108.417324      0.360164      0.496556      0.280954  \n",
       "min          0.000000      0.000000      0.000000      0.000000      0.000000  \n",
       "25%          0.000000      0.000000      0.000000      0.000000      0.000000  \n",
       "50%          0.000000      0.000000      0.000000      0.000000      0.000000  \n",
       "75%          0.000000      0.000000      0.000000      1.000000      0.000000  \n",
       "max     575053.000000    720.000000      1.000000      1.000000      1.000000  "
      ]
     },
     "execution_count": 10,
     "metadata": {},
     "output_type": "execute_result"
    }
   ],
   "source": [
    "df.describe(include='all')"
   ]
  },
  {
   "cell_type": "code",
   "execution_count": 11,
   "metadata": {},
   "outputs": [
    {
     "name": "stdout",
     "output_type": "stream",
     "text": [
      "Total parc voitures : 8142\n",
      "\n",
      "Total locations : 21309\n",
      "- dont mobile : 17002 soit 79.79 %\n",
      "- dont connect : 4307 soit 20.21 %\n",
      "\n",
      "Total annulations : 3264 soit 15.32 %\n",
      "\n",
      "Total locations serrées : 1841 soit 8.64 %\n",
      "\n",
      "Total retards : 9404 soit 44.13 %\n",
      "Retard moyen : 202 minutes soit 202\n",
      "Délai de retour moyen: 47 minutes\n"
     ]
    }
   ],
   "source": [
    "print('Total parc voitures :', df['car_id'].nunique())\n",
    "print()\n",
    "print('Total locations :', df['rental_id'].nunique())\n",
    "print('- dont mobile :', len(df[df['checkin_type']=='mobile']),'soit', round(len(df[df['checkin_type']=='mobile'])/df['checkin_type'].count()*100,2), '%')\n",
    "print('- dont connect :', len(df[df['checkin_type']=='connect']), 'soit', round(len(df[df['checkin_type']=='connect'])/df['checkin_type'].count()*100,2), '%')\n",
    "print()\n",
    "print('Total annulations :', df['canceled'].sum(), 'soit', round(df['canceled'].sum()/df['canceled'].count()*100,2), '%')\n",
    "print()\n",
    "print('Total locations serrées :', df['previous'].sum(), 'soit', round(df['previous'].sum()/df['previous'].count()*100,2), '%')\n",
    "print()\n",
    "print('Total retards :', df['delayed'].sum(), 'soit', round(df['delayed'].sum()/df['delayed'].count()*100,2), '%')\n",
    "print('Retard moyen :', round(df[df['delayed']==1]['delay'].mean()), 'minutes soit', round(df[df['delayed']==1]['delay'].mean()))\n",
    "print('Délai de retour moyen:', round(df['delay'].mean()), 'minutes')"
   ]
  },
  {
   "cell_type": "markdown",
   "metadata": {},
   "source": [
    "## Analyse des locations serrées\n",
    "\n",
    "Les locations serrées (tight_rentals) sont les locations qui succèdent une location dans un délai inférieur à 12 heures (previous=1).\n"
   ]
  },
  {
   "cell_type": "code",
   "execution_count": 117,
   "metadata": {},
   "outputs": [],
   "source": [
    "tight_rentals = df[(df['previous'] == 1)]\n",
    "tight_rentals_canceled = tight_rentals[tight_rentals['canceled'] == 1]\n",
    "tight_rentals_ended = tight_rentals[tight_rentals['canceled'] == 0]"
   ]
  },
  {
   "cell_type": "code",
   "execution_count": 118,
   "metadata": {},
   "outputs": [],
   "source": [
    "df_temp = df[['rental_id', 'delay']]\n",
    "df_temp = df_temp.rename(columns={'delay': 'previous_delay'})"
   ]
  },
  {
   "cell_type": "code",
   "execution_count": 119,
   "metadata": {},
   "outputs": [
    {
     "data": {
      "text/html": [
       "<div>\n",
       "<style scoped>\n",
       "    .dataframe tbody tr th:only-of-type {\n",
       "        vertical-align: middle;\n",
       "    }\n",
       "\n",
       "    .dataframe tbody tr th {\n",
       "        vertical-align: top;\n",
       "    }\n",
       "\n",
       "    .dataframe thead th {\n",
       "        text-align: right;\n",
       "    }\n",
       "</style>\n",
       "<table border=\"1\" class=\"dataframe\">\n",
       "  <thead>\n",
       "    <tr style=\"text-align: right;\">\n",
       "      <th></th>\n",
       "      <th>rental_id</th>\n",
       "      <th>car_id</th>\n",
       "      <th>checkin_type</th>\n",
       "      <th>state</th>\n",
       "      <th>delay</th>\n",
       "      <th>previous_id</th>\n",
       "      <th>time_gap</th>\n",
       "      <th>canceled</th>\n",
       "      <th>delayed</th>\n",
       "      <th>previous</th>\n",
       "      <th>previous_delay</th>\n",
       "    </tr>\n",
       "  </thead>\n",
       "  <tbody>\n",
       "    <tr>\n",
       "      <th>0</th>\n",
       "      <td>511639</td>\n",
       "      <td>370585</td>\n",
       "      <td>connect</td>\n",
       "      <td>ended</td>\n",
       "      <td>-15.0</td>\n",
       "      <td>563782</td>\n",
       "      <td>570.0</td>\n",
       "      <td>0</td>\n",
       "      <td>0</td>\n",
       "      <td>1</td>\n",
       "      <td>136.0</td>\n",
       "    </tr>\n",
       "    <tr>\n",
       "      <th>1</th>\n",
       "      <td>519491</td>\n",
       "      <td>312389</td>\n",
       "      <td>mobile</td>\n",
       "      <td>ended</td>\n",
       "      <td>58.0</td>\n",
       "      <td>545639</td>\n",
       "      <td>420.0</td>\n",
       "      <td>0</td>\n",
       "      <td>1</td>\n",
       "      <td>1</td>\n",
       "      <td>140.0</td>\n",
       "    </tr>\n",
       "    <tr>\n",
       "      <th>2</th>\n",
       "      <td>521156</td>\n",
       "      <td>392479</td>\n",
       "      <td>mobile</td>\n",
       "      <td>ended</td>\n",
       "      <td>0.0</td>\n",
       "      <td>537298</td>\n",
       "      <td>0.0</td>\n",
       "      <td>0</td>\n",
       "      <td>0</td>\n",
       "      <td>1</td>\n",
       "      <td>0.0</td>\n",
       "    </tr>\n",
       "    <tr>\n",
       "      <th>3</th>\n",
       "      <td>525044</td>\n",
       "      <td>349751</td>\n",
       "      <td>mobile</td>\n",
       "      <td>ended</td>\n",
       "      <td>0.0</td>\n",
       "      <td>510607</td>\n",
       "      <td>60.0</td>\n",
       "      <td>0</td>\n",
       "      <td>0</td>\n",
       "      <td>1</td>\n",
       "      <td>-113.0</td>\n",
       "    </tr>\n",
       "    <tr>\n",
       "      <th>4</th>\n",
       "      <td>528808</td>\n",
       "      <td>181625</td>\n",
       "      <td>connect</td>\n",
       "      <td>ended</td>\n",
       "      <td>-76.0</td>\n",
       "      <td>557404</td>\n",
       "      <td>330.0</td>\n",
       "      <td>0</td>\n",
       "      <td>0</td>\n",
       "      <td>1</td>\n",
       "      <td>-352.0</td>\n",
       "    </tr>\n",
       "    <tr>\n",
       "      <th>...</th>\n",
       "      <td>...</td>\n",
       "      <td>...</td>\n",
       "      <td>...</td>\n",
       "      <td>...</td>\n",
       "      <td>...</td>\n",
       "      <td>...</td>\n",
       "      <td>...</td>\n",
       "      <td>...</td>\n",
       "      <td>...</td>\n",
       "      <td>...</td>\n",
       "      <td>...</td>\n",
       "    </tr>\n",
       "    <tr>\n",
       "      <th>1836</th>\n",
       "      <td>568049</td>\n",
       "      <td>381499</td>\n",
       "      <td>connect</td>\n",
       "      <td>canceled</td>\n",
       "      <td>0.0</td>\n",
       "      <td>562174</td>\n",
       "      <td>720.0</td>\n",
       "      <td>1</td>\n",
       "      <td>0</td>\n",
       "      <td>1</td>\n",
       "      <td>73.0</td>\n",
       "    </tr>\n",
       "    <tr>\n",
       "      <th>1837</th>\n",
       "      <td>568241</td>\n",
       "      <td>396409</td>\n",
       "      <td>mobile</td>\n",
       "      <td>canceled</td>\n",
       "      <td>0.0</td>\n",
       "      <td>566136</td>\n",
       "      <td>570.0</td>\n",
       "      <td>1</td>\n",
       "      <td>0</td>\n",
       "      <td>1</td>\n",
       "      <td>16.0</td>\n",
       "    </tr>\n",
       "    <tr>\n",
       "      <th>1838</th>\n",
       "      <td>568523</td>\n",
       "      <td>297973</td>\n",
       "      <td>mobile</td>\n",
       "      <td>ended</td>\n",
       "      <td>12.0</td>\n",
       "      <td>567121</td>\n",
       "      <td>240.0</td>\n",
       "      <td>0</td>\n",
       "      <td>1</td>\n",
       "      <td>1</td>\n",
       "      <td>-275.0</td>\n",
       "    </tr>\n",
       "    <tr>\n",
       "      <th>1839</th>\n",
       "      <td>569717</td>\n",
       "      <td>377312</td>\n",
       "      <td>mobile</td>\n",
       "      <td>ended</td>\n",
       "      <td>230.0</td>\n",
       "      <td>545045</td>\n",
       "      <td>90.0</td>\n",
       "      <td>0</td>\n",
       "      <td>1</td>\n",
       "      <td>1</td>\n",
       "      <td>22.0</td>\n",
       "    </tr>\n",
       "    <tr>\n",
       "      <th>1840</th>\n",
       "      <td>573446</td>\n",
       "      <td>380069</td>\n",
       "      <td>mobile</td>\n",
       "      <td>ended</td>\n",
       "      <td>0.0</td>\n",
       "      <td>573429</td>\n",
       "      <td>300.0</td>\n",
       "      <td>0</td>\n",
       "      <td>0</td>\n",
       "      <td>1</td>\n",
       "      <td>0.0</td>\n",
       "    </tr>\n",
       "  </tbody>\n",
       "</table>\n",
       "<p>1841 rows × 11 columns</p>\n",
       "</div>"
      ],
      "text/plain": [
       "      rental_id  car_id checkin_type     state  delay  previous_id  time_gap  \\\n",
       "0        511639  370585      connect     ended  -15.0       563782     570.0   \n",
       "1        519491  312389       mobile     ended   58.0       545639     420.0   \n",
       "2        521156  392479       mobile     ended    0.0       537298       0.0   \n",
       "3        525044  349751       mobile     ended    0.0       510607      60.0   \n",
       "4        528808  181625      connect     ended  -76.0       557404     330.0   \n",
       "...         ...     ...          ...       ...    ...          ...       ...   \n",
       "1836     568049  381499      connect  canceled    0.0       562174     720.0   \n",
       "1837     568241  396409       mobile  canceled    0.0       566136     570.0   \n",
       "1838     568523  297973       mobile     ended   12.0       567121     240.0   \n",
       "1839     569717  377312       mobile     ended  230.0       545045      90.0   \n",
       "1840     573446  380069       mobile     ended    0.0       573429     300.0   \n",
       "\n",
       "      canceled  delayed  previous  previous_delay  \n",
       "0            0        0         1           136.0  \n",
       "1            0        1         1           140.0  \n",
       "2            0        0         1             0.0  \n",
       "3            0        0         1          -113.0  \n",
       "4            0        0         1          -352.0  \n",
       "...        ...      ...       ...             ...  \n",
       "1836         1        0         1            73.0  \n",
       "1837         1        0         1            16.0  \n",
       "1838         0        1         1          -275.0  \n",
       "1839         0        1         1            22.0  \n",
       "1840         0        0         1             0.0  \n",
       "\n",
       "[1841 rows x 11 columns]"
      ]
     },
     "execution_count": 119,
     "metadata": {},
     "output_type": "execute_result"
    }
   ],
   "source": [
    "tight_rentals_enriched = pd.merge(tight_rentals, df_temp, left_on='previous_id', right_on='rental_id') \n",
    "tight_rentals_enriched.drop(['rental_id_y'], axis=1, inplace=True)\n",
    "tight_rentals_enriched.rename(columns={'rental_id_x':'rental_id'}, inplace=True)\n",
    "tight_rentals_enriched"
   ]
  },
  {
   "cell_type": "code",
   "execution_count": 6,
   "metadata": {},
   "outputs": [
    {
     "data": {
      "text/plain": [
       "0.7980049875311721"
      ]
     },
     "execution_count": 6,
     "metadata": {},
     "output_type": "execute_result"
    }
   ],
   "source": [
    "tight_rentals_enriched[tight_rentals_enriched['delayed']==1]['previous_delay'].mean()"
   ]
  },
  {
   "cell_type": "code",
   "execution_count": 16,
   "metadata": {},
   "outputs": [
    {
     "data": {
      "text/plain": [
       "checkin_type\n",
       "mobile     1028\n",
       "connect     813\n",
       "Name: count, dtype: int64"
      ]
     },
     "execution_count": 16,
     "metadata": {},
     "output_type": "execute_result"
    }
   ],
   "source": [
    "tight_rentals_enriched['checkin_type'].value_counts()"
   ]
  },
  {
   "cell_type": "code",
   "execution_count": 17,
   "metadata": {},
   "outputs": [
    {
     "name": "stdout",
     "output_type": "stream",
     "text": [
      "Total locations serrées : 1841\n",
      "- parc voitures uniques : 1087\n",
      "\n",
      "- dont mobile : 1028 soit 55.84 %\n",
      "- dont connect : 813 soit 44.16 %\n",
      "\n",
      "- dont maintenues : 1612 soit 87.56 %\n",
      "- dont annulées : 229 soit 12.44 %\n",
      "\n",
      "- dont loueur précédent en retard : 873 soit 47.42 %\n",
      "- dont non impactées par le retard : 1623\n",
      "- dont impactées par le retard : 218\n",
      "\n",
      "- délai loueur précédent moyen : -23 minutes\n",
      "- délai accordé moyen : 279 minutes\n",
      "\n",
      "Cas des annulations :\n",
      "- dont connect : 131 soit 57.21 %\n",
      "- dont mobile : 98 soit 42.79 %\n",
      "- dont loueur précédent en retard : 106\n",
      "- dont le retard est impactant : 37\n",
      "- délai accordé moyen : 295 minutes\n",
      "- délai loueur précédent moyen : -38 minutes\n"
     ]
    }
   ],
   "source": [
    "print('Total locations serrées :', tight_rentals_enriched['rental_id'].nunique())\n",
    "print('- parc voitures uniques :', tight_rentals_enriched['car_id'].nunique())\n",
    "print()\n",
    "print('- dont mobile :', tight_rentals_enriched['checkin_type'].value_counts()[0], 'soit',  round(tight_rentals_enriched['checkin_type'].value_counts()[0]/len(tight_rentals_enriched)*100,2), '%')\n",
    "print('- dont connect :', tight_rentals_enriched['checkin_type'].value_counts()[1], 'soit',  round(tight_rentals_enriched['checkin_type'].value_counts()[1]/len(tight_rentals_enriched)*100,2), '%' )\n",
    "print()\n",
    "print('- dont maintenues :', tight_rentals_enriched['state'].value_counts()[0], 'soit',  round(tight_rentals_enriched['state'].value_counts()[0]/len(tight_rentals_enriched)*100,2), '%' )\n",
    "print('- dont annulées :', tight_rentals_enriched['state'].value_counts()[1], 'soit',  round(tight_rentals_enriched['state'].value_counts()[1]/len(tight_rentals_enriched)*100,2), '%' )\n",
    "print()\n",
    "print('- dont loueur précédent en retard :', len(tight_rentals_enriched[tight_rentals_enriched['previous_delay']>0]), 'soit', round(len(tight_rentals_enriched[tight_rentals_enriched['previous_delay']>0])/len(tight_rentals_enriched)*100,2), '%')\n",
    "print('- dont non impactées par le retard :', len(tight_rentals_enriched[tight_rentals_enriched['previous_delay'] <= tight_rentals_enriched['time_gap']]))\n",
    "print('- dont impactées par le retard :', len(tight_rentals_enriched[tight_rentals_enriched['previous_delay'] > tight_rentals_enriched['time_gap']]))\n",
    "print()\n",
    "print('- délai loueur précédent moyen :', round(tight_rentals_enriched['previous_delay'].mean()), 'minutes')\n",
    "print('- délai accordé moyen :', round(tight_rentals_enriched['time_gap'].mean()), 'minutes')\n",
    "print()\n",
    "print('Cas des annulations :')\n",
    "print('- dont connect :', tight_rentals_enriched[tight_rentals_enriched['state']=='canceled']['checkin_type'].value_counts()[0], 'soit',  round(tight_rentals_enriched[tight_rentals_enriched['state']=='canceled']['checkin_type'].value_counts()[0]/len(tight_rentals_enriched[tight_rentals_enriched['state']=='canceled'])*100,2), '%')\n",
    "print('- dont mobile :', tight_rentals_enriched[tight_rentals_enriched['state']=='canceled']['checkin_type'].value_counts()[1], 'soit',  round(tight_rentals_enriched[tight_rentals_enriched['state']=='canceled']['checkin_type'].value_counts()[1]/len(tight_rentals_enriched[tight_rentals_enriched['state']=='canceled'])*100,2), '%' )\n",
    "print('- dont loueur précédent en retard :', len(tight_rentals_enriched[(tight_rentals_enriched['state']=='canceled') & (tight_rentals_enriched['previous_delay'] > 0)]))\n",
    "print('- dont le retard est impactant :', len(tight_rentals_enriched[(tight_rentals_enriched['state']=='canceled') & (tight_rentals_enriched['previous_delay'] > tight_rentals_enriched['time_gap'])]))\n",
    "print('- délai accordé moyen :', round(tight_rentals_enriched[tight_rentals_enriched['state']=='canceled']['time_gap'].mean()), 'minutes')\n",
    "print('- délai loueur précédent moyen :', round(tight_rentals_enriched[tight_rentals_enriched['state']=='canceled']['previous_delay'].mean()), 'minutes')"
   ]
  },
  {
   "cell_type": "markdown",
   "metadata": {},
   "source": [
    "## Retards impactants\n",
    "\n",
    "Nous avons dénombré 37 retards impactants, c'est-à-dire ayant provoqué l'annulation de la location suivante.\n",
    "\n",
    "En moyenne ce retard est de 250 minutes soit un peu plus de 4 heures. Le record étant de 24 heures de retard."
   ]
  },
  {
   "cell_type": "code",
   "execution_count": 7,
   "metadata": {},
   "outputs": [
    {
     "name": "stdout",
     "output_type": "stream",
     "text": [
      "Nombre de retards impactant : 37\n",
      "Retard moyen : 254 minutes\n",
      "Retard médian : 153 minutes\n",
      "Retard max : 1466 minutes\n",
      "Retard min : 1 minute\n"
     ]
    }
   ],
   "source": [
    "canceled_because_of_previous = tight_rentals_enriched[(tight_rentals_enriched['state']=='canceled') & (tight_rentals_enriched['previous_delay'] > tight_rentals_enriched['time_gap'])]\n",
    "\n",
    "print('Nombre de retards impactant :', len(canceled_because_of_previous))\n",
    "print('Retard moyen :', round(canceled_because_of_previous['previous_delay'].mean()), 'minutes')\n",
    "print('Retard médian :', round(canceled_because_of_previous['previous_delay'].median()), 'minutes')\n",
    "print('Retard max :', round(canceled_because_of_previous['previous_delay'].max()), 'minutes')\n",
    "print('Retard min :', round(canceled_because_of_previous['previous_delay'].min()), 'minute')"
   ]
  },
  {
   "cell_type": "code",
   "execution_count": 84,
   "metadata": {},
   "outputs": [],
   "source": [
    "impacting_delay = canceled_because_of_previous['previous_delay'].to_frame().reset_index()\n",
    "impacting_delay = impacting_delay.drop(['index'], axis=1)\n",
    "impacting_delay['previous_delay_hours'] = impacting_delay['previous_delay'].apply(lambda x: round(x/60,2))"
   ]
  },
  {
   "cell_type": "code",
   "execution_count": 393,
   "metadata": {},
   "outputs": [
    {
     "name": "stdout",
     "output_type": "stream",
     "text": [
      "Intervalle = [-3, 12]\n"
     ]
    },
    {
     "data": {
      "image/png": "[encoded data removed]",
      "text/plain": [
       "<Figure size 800x100 with 1 Axes>"
      ]
     },
     "metadata": {},
     "output_type": "display_data"
    }
   ],
   "source": [
    "# Nous retirons les 2 valeurs aberrantes avant de faire la visualisation\n",
    "mean_val = impacting_delay['previous_delay_hours'].mean()\n",
    "std_val = impacting_delay['previous_delay_hours'].std()\n",
    "print(f'Intervalle = [{round((mean_val - 1.5*std_val))}, {round((mean_val + 1.5*std_val))}]')\n",
    "\n",
    "fig, ax = plt.subplots(figsize=(8, 1))\n",
    "sns.boxplot(x=impacting_delay['previous_delay_hours'], ax=ax, palette=['mediumslateblue'], linecolor='black')\n",
    "plt.xticks([i for i in range(0,26,1)], fontsize=10)\n",
    "plt.xlabel('retard précédent (en heure)', fontsize=11)\n",
    "plt.show()"
   ]
  },
  {
   "cell_type": "code",
   "execution_count": 86,
   "metadata": {},
   "outputs": [
    {
     "data": {
      "image/png": "[encoded data removed]",
      "text/plain": [
       "<Figure size 600x400 with 1 Axes>"
      ]
     },
     "metadata": {},
     "output_type": "display_data"
    }
   ],
   "source": [
    "# Retards entraînant l'annulation de la location suivante \n",
    "sns.set(rc={\"figure.figsize\":(6, 4)}, style = 'white')\n",
    "sns.histplot(data=impacting_delay[impacting_delay['previous_delay'] <= 720], x='previous_delay', kde=True, bins=9, edgecolor='black', color='blue')\n",
    "\n",
    "plt.ylabel('nombre', fontsize=11)\n",
    "plt.xlabel('heures', fontsize=11)\n",
    "\n",
    "plt.xticks([i for i in range (0,720,60)], [i for i in range (0,12,1)], fontsize=10, fontweight='bold')\n",
    "plt.title('Retards entraînant annulation de la location suivante', fontsize=12.5, pad=16)\n",
    "\n",
    "plt.show()"
   ]
  },
  {
   "cell_type": "markdown",
   "metadata": {},
   "source": [
    "La moitié des retards impactant sont inférieurs à 150 minutes soit 2,5 heures.\n",
    "\n",
    "Définir un seuil à 2,5 heures permettrait de réduire de moitié les retards impactants.\n",
    "\n",
    "Définir un seuil à 4 heures permettrait de réduire de deux tiers les retards impactants.\n",
    "\n",
    "Avec un seuil de 4 heures nous n'aurions plus que 12 clients mécontents, contre 37 au départ."
   ]
  },
  {
   "cell_type": "code",
   "execution_count": 403,
   "metadata": {},
   "outputs": [
    {
     "name": "stdout",
     "output_type": "stream",
     "text": [
      "Clients mécontents: 12\n"
     ]
    }
   ],
   "source": [
    "print('Clients mécontents:', len(canceled_because_of_previous[canceled_because_of_previous['previous_delay'] > 240]))"
   ]
  },
  {
   "cell_type": "markdown",
   "metadata": {},
   "source": [
    "## Délai optimal entre deux locations"
   ]
  },
  {
   "cell_type": "markdown",
   "metadata": {},
   "source": [
    "Pour trouver le délai optimal entre deux locations nous observons l'évolution du nombre de réservations et d'annulations suivant le délai choisi. \n",
    "\n",
    "Avant cela, nous pouvons déjà dire que si l'on définit un délai de 12 heures entre deux locations :\n",
    "\n",
    "- on éviterait d'avoir 40 clients mécontents ; \n",
    "\n",
    "- on éviterait 230 annulations liées à un délai trop serré ;\n",
    "\n",
    "- on perdrait 1840 réservations.\n"
   ]
  },
  {
   "cell_type": "code",
   "execution_count": 120,
   "metadata": {},
   "outputs": [],
   "source": [
    "threshold = []\n",
    "loss_rentals = []\n",
    "cancellations = []\n",
    "\n",
    "for i in range(0,721,30):\n",
    "    loss = len(tight_rentals_enriched[(tight_rentals_enriched['time_gap']>=i)])\n",
    "    cancellation = len(tight_rentals_enriched[(tight_rentals_enriched['canceled']==1) & (tight_rentals_enriched['time_gap']>=i)])\n",
    "    threshold.append(i)\n",
    "    loss_rentals.append(loss)\n",
    "    cancellations.append(cancellation)\n",
    "\n",
    "loss_and_gain = pd.DataFrame(list(zip(threshold,loss_rentals,cancellations)), columns=['threshold', 'total_rental', 'total_cancellation'])\n",
    "loss_and_gain['threshold_hour'] = loss_and_gain['threshold']/60"
   ]
  },
  {
   "cell_type": "code",
   "execution_count": 121,
   "metadata": {},
   "outputs": [],
   "source": [
    "loss_and_gain_df = loss_and_gain.copy()"
   ]
  },
  {
   "cell_type": "code",
   "execution_count": 122,
   "metadata": {},
   "outputs": [],
   "source": [
    "loss_and_gain_df['delta_rental'] = 0\n",
    "for i in range(1, len(loss_and_gain_df)):\n",
    "    loss_count = loss_and_gain_df.iloc[i-1, 1] - loss_and_gain_df.iloc[i, 1] + loss_and_gain_df.iloc[i-1,4]\n",
    "    loss_and_gain_df.iloc[i,4] = loss_count"
   ]
  },
  {
   "cell_type": "code",
   "execution_count": 123,
   "metadata": {},
   "outputs": [],
   "source": [
    "loss_and_gain_df['delta_cancellation'] = 0\n",
    "for i in range(1, len(loss_and_gain_df)):\n",
    "    loss_count = loss_and_gain_df.iloc[i-1, 2] - loss_and_gain_df.iloc[i, 2] + loss_and_gain_df.iloc[i-1,5]\n",
    "    loss_and_gain_df.iloc[i,5] = loss_count"
   ]
  },
  {
   "cell_type": "code",
   "execution_count": 124,
   "metadata": {},
   "outputs": [
    {
     "data": {
      "text/html": [
       "<div>\n",
       "<style scoped>\n",
       "    .dataframe tbody tr th:only-of-type {\n",
       "        vertical-align: middle;\n",
       "    }\n",
       "\n",
       "    .dataframe tbody tr th {\n",
       "        vertical-align: top;\n",
       "    }\n",
       "\n",
       "    .dataframe thead th {\n",
       "        text-align: right;\n",
       "    }\n",
       "</style>\n",
       "<table border=\"1\" class=\"dataframe\">\n",
       "  <thead>\n",
       "    <tr style=\"text-align: right;\">\n",
       "      <th></th>\n",
       "      <th>threshold</th>\n",
       "      <th>reservations</th>\n",
       "      <th>annulations</th>\n",
       "      <th>seuil_en_heure</th>\n",
       "      <th>diminution_reservations</th>\n",
       "      <th>diminution_annulations</th>\n",
       "    </tr>\n",
       "  </thead>\n",
       "  <tbody>\n",
       "    <tr>\n",
       "      <th>0</th>\n",
       "      <td>0</td>\n",
       "      <td>1841</td>\n",
       "      <td>229</td>\n",
       "      <td>0.0</td>\n",
       "      <td>0</td>\n",
       "      <td>0</td>\n",
       "    </tr>\n",
       "    <tr>\n",
       "      <th>1</th>\n",
       "      <td>30</td>\n",
       "      <td>1562</td>\n",
       "      <td>194</td>\n",
       "      <td>0.5</td>\n",
       "      <td>279</td>\n",
       "      <td>35</td>\n",
       "    </tr>\n",
       "    <tr>\n",
       "      <th>2</th>\n",
       "      <td>60</td>\n",
       "      <td>1440</td>\n",
       "      <td>186</td>\n",
       "      <td>1.0</td>\n",
       "      <td>401</td>\n",
       "      <td>43</td>\n",
       "    </tr>\n",
       "    <tr>\n",
       "      <th>3</th>\n",
       "      <td>90</td>\n",
       "      <td>1257</td>\n",
       "      <td>163</td>\n",
       "      <td>1.5</td>\n",
       "      <td>584</td>\n",
       "      <td>66</td>\n",
       "    </tr>\n",
       "    <tr>\n",
       "      <th>4</th>\n",
       "      <td>120</td>\n",
       "      <td>1175</td>\n",
       "      <td>155</td>\n",
       "      <td>2.0</td>\n",
       "      <td>666</td>\n",
       "      <td>74</td>\n",
       "    </tr>\n",
       "  </tbody>\n",
       "</table>\n",
       "</div>"
      ],
      "text/plain": [
       "   threshold  reservations  annulations  seuil_en_heure  \\\n",
       "0          0          1841          229             0.0   \n",
       "1         30          1562          194             0.5   \n",
       "2         60          1440          186             1.0   \n",
       "3         90          1257          163             1.5   \n",
       "4        120          1175          155             2.0   \n",
       "\n",
       "   diminution_reservations  diminution_annulations  \n",
       "0                        0                       0  \n",
       "1                      279                      35  \n",
       "2                      401                      43  \n",
       "3                      584                      66  \n",
       "4                      666                      74  "
      ]
     },
     "execution_count": 124,
     "metadata": {},
     "output_type": "execute_result"
    }
   ],
   "source": [
    "loss_and_gain_df.rename(columns={'threshold_hour': 'seuil_en_heure', \n",
    "                                 'total_rental': 'reservations', \n",
    "                                 'total_cancellation': 'annulations', \n",
    "                                 'delta_rental': 'diminution_reservations',\n",
    "                                 'delta_cancellation': 'diminution_annulations'},\n",
    "                                 inplace = True)\n",
    "loss_and_gain_df.head()"
   ]
  },
  {
   "cell_type": "markdown",
   "metadata": {},
   "source": [
    "Nous enregistrons ces données pour alimenter le tableau de bord Streamlit en Partie 3 de ce projet."
   ]
  },
  {
   "cell_type": "code",
   "execution_count": 30,
   "metadata": {},
   "outputs": [],
   "source": [
    "loss_and_gain_df.to_csv('./src/data.csv',index=False)"
   ]
  },
  {
   "cell_type": "markdown",
   "metadata": {},
   "source": [
    "## Visualisation\n",
    "\n",
    "Nous visualisons sur un graphique la diminution des réservations et des annulations en fonction du délai minimum."
   ]
  },
  {
   "cell_type": "code",
   "execution_count": 125,
   "metadata": {},
   "outputs": [
    {
     "data": {
      "image/png": "[encoded data removed]",
      "text/plain": [
       "<Figure size 1000x450 with 1 Axes>"
      ]
     },
     "metadata": {},
     "output_type": "display_data"
    }
   ],
   "source": [
    "sns.set(rc={'figure.figsize':(10, 4.5)}, style='white')\n",
    "\n",
    "loss_and_gain.set_index('threshold').plot(kind='bar', stacked=False, color=['dodgerblue', 'crimson'], width=1.5, edgecolor='black')\n",
    "\n",
    "plt.title(\"Nombre de locations et d'annulations suivant le délai\", fontsize=12.5, pad=16)\n",
    "plt.xlabel('Délai minimum entre deux locations (en heure)', fontsize=11)\n",
    "plt.ylabel('')\n",
    "\n",
    "plt.yticks([i for i in range(0,1801,200)], [i for i in range(0,1801,200)], fontsize=11, fontweight='normal')\n",
    "plt.xticks([i for i in range(0,25,2)], [i for i in range(0,13,1)], rotation=0, fontsize=10, fontweight='bold')\n",
    "\n",
    "plt.legend(labels=['locations','annulations'], fontsize=10)\n",
    "plt.show()"
   ]
  },
  {
   "cell_type": "markdown",
   "metadata": {},
   "source": [
    "Nous séparons les données sur deux graphiques pour mieux rendre compte de l'évolution des annulations."
   ]
  },
  {
   "cell_type": "code",
   "execution_count": 126,
   "metadata": {},
   "outputs": [
    {
     "data": {
      "image/png": "[encoded data removed]",
      "text/plain": [
       "<Figure size 1000x300 with 2 Axes>"
      ]
     },
     "metadata": {},
     "output_type": "display_data"
    }
   ],
   "source": [
    "sns.set(rc={'figure.figsize':(10, 3)}, style='white')\n",
    "fig, axes = plt.subplots(1, 2)\n",
    "fig.subplots_adjust(hspace=0.125, wspace=0.125)\n",
    "fig.suptitle(\"Nombre de réservations et d'annulations suivant le délai minimum\", fontsize=12.5)\n",
    "fig.subplots_adjust(top=.8)\n",
    "\n",
    "loss_and_gain[['threshold_hour', 'total_rental']].set_index('threshold_hour').plot(kind='bar', stacked=False, color=['dodgerblue'], width=1, edgecolor='black', ax = axes[0])\n",
    "loss_and_gain[['threshold_hour', 'total_cancellation']].set_index('threshold_hour').plot(kind='bar', stacked=False, color=['crimson'], width=1, edgecolor='black', ax = axes[1])\n",
    "\n",
    "axes[0].set_title('Réservations', fontsize=10, fontweight='bold')\n",
    "axes[1].set_title('Annulations', fontsize=10, fontweight='bold')\n",
    "\n",
    "axes[0].set_xlabel('')\n",
    "axes[1].set_xlabel('')\n",
    "\n",
    "axes[0].set_ylabel('count', fontsize=11)\n",
    "axes[1].set_ylabel('')\n",
    "\n",
    "axes[0].set_xticks([i for i in range(0,25,2)], [i for i in range(0,13,1)], rotation=0, fontsize = 10, fontweight='bold')\n",
    "axes[1].set_xticks([i for i in range(0,25,2)], [i for i in range(0,13,1)], rotation=0, fontsize = 10, fontweight='bold')\n",
    "\n",
    "axes[0].legend('', frameon=False)\n",
    "axes[1].legend('', frameon=False)\n",
    "\n",
    "plt.show()"
   ]
  },
  {
   "cell_type": "markdown",
   "metadata": {},
   "source": [
    "## Part de revenus des locations serrées"
   ]
  },
  {
   "cell_type": "markdown",
   "metadata": {},
   "source": [
    "On assume qu'une voiture représente un loueur. Nous ne traitons pas le cas où un loueur possède plusieurs voitures.\n",
    "\n",
    "En moyenne les locations serrées représentent 27% des revenus des loueurs.\n",
    "\n",
    "Pour certains loueurs cette part atteint plus de la moitié des revenus, le record étant de 80%.\n",
    "\n",
    "Ces loueurs possèdent 1087 voitures soit 13.35% du parc total.\n",
    "\n",
    "Avec cette flotte de 13.35% ils réalisent 34% des locations (tous types confondus), soit plus du tiers.\n",
    "\n",
    "--> Ce groupe de loueurs est donc important pour Getaround."
   ]
  },
  {
   "cell_type": "code",
   "execution_count": 313,
   "metadata": {},
   "outputs": [],
   "source": [
    "# Toutes les voitures et le nombre de locations total :\n",
    "all_rentals_df = df.groupby('car_id').count()['rental_id'].to_frame().reset_index()\n",
    "\n",
    "# Toutes les voitures et le nombre de locations à délai court :\n",
    "all_cars_df = df.groupby('car_id').sum()['previous'].to_frame().reset_index()"
   ]
  },
  {
   "cell_type": "code",
   "execution_count": 314,
   "metadata": {},
   "outputs": [
    {
     "data": {
      "text/html": [
       "<div>\n",
       "<style scoped>\n",
       "    .dataframe tbody tr th:only-of-type {\n",
       "        vertical-align: middle;\n",
       "    }\n",
       "\n",
       "    .dataframe tbody tr th {\n",
       "        vertical-align: top;\n",
       "    }\n",
       "\n",
       "    .dataframe thead th {\n",
       "        text-align: right;\n",
       "    }\n",
       "</style>\n",
       "<table border=\"1\" class=\"dataframe\">\n",
       "  <thead>\n",
       "    <tr style=\"text-align: right;\">\n",
       "      <th></th>\n",
       "      <th>car_id</th>\n",
       "      <th>previous</th>\n",
       "    </tr>\n",
       "  </thead>\n",
       "  <tbody>\n",
       "    <tr>\n",
       "      <th>2471</th>\n",
       "      <td>334190</td>\n",
       "      <td>15</td>\n",
       "    </tr>\n",
       "    <tr>\n",
       "      <th>612</th>\n",
       "      <td>241021</td>\n",
       "      <td>13</td>\n",
       "    </tr>\n",
       "    <tr>\n",
       "      <th>3844</th>\n",
       "      <td>365926</td>\n",
       "      <td>11</td>\n",
       "    </tr>\n",
       "    <tr>\n",
       "      <th>3977</th>\n",
       "      <td>368432</td>\n",
       "      <td>11</td>\n",
       "    </tr>\n",
       "    <tr>\n",
       "      <th>5640</th>\n",
       "      <td>392368</td>\n",
       "      <td>10</td>\n",
       "    </tr>\n",
       "  </tbody>\n",
       "</table>\n",
       "</div>"
      ],
      "text/plain": [
       "      car_id  previous\n",
       "2471  334190        15\n",
       "612   241021        13\n",
       "3844  365926        11\n",
       "3977  368432        11\n",
       "5640  392368        10"
      ]
     },
     "execution_count": 314,
     "metadata": {},
     "output_type": "execute_result"
    }
   ],
   "source": [
    "# Uniquement les voitures ayant des locations serrées et le compte :\n",
    "all_tight_df = all_cars_df[all_cars_df['previous'] > 0].sort_values(by='previous', ascending=False)\n",
    "\n",
    "# Id des voitures ayant des locations serrées :\n",
    "tight_car_id = all_tight_df['car_id'].unique().tolist()\n",
    "\n",
    "# Toutes les locations de ces voitures :\n",
    "tight_car_df = df[(df['car_id'].isin(tight_car_id))]\n",
    "\n",
    "# Le nombre de locations total tous types confondus de ces voitures :\n",
    "tight_rentals_count = tight_car_df['rental_id'].nunique()\n",
    "\n",
    "# On affiche uniquement les voitures ayant des locations serrées et le compte :\n",
    "all_tight_df.head()"
   ]
  },
  {
   "cell_type": "code",
   "execution_count": 307,
   "metadata": {},
   "outputs": [
    {
     "name": "stdout",
     "output_type": "stream",
     "text": [
      "Voitures avec locations serrées : 1087 soit 13.35 % du parc total\n",
      "\n",
      "Total locations tous types confondus : 7255 soit 34.05 % du total\n",
      "- dont locations serrées : 1841 soit 8.64 % du total\n",
      "- dont locations non serrées : 5414 soit 25.41 % du total\n"
     ]
    }
   ],
   "source": [
    "print('Voitures avec locations serrées :', tight_car_df['car_id'].nunique(), 'soit', round(tight_car_df['car_id'].nunique()/df['car_id'].nunique()*100,2), '% du parc total')\n",
    "print('')\n",
    "print('Total locations tous types confondus :', tight_rentals_count, 'soit', round(tight_rentals_count/len(df)*100,2), '% du total')\n",
    "print('- dont locations serrées :', tight_car_df['previous'].sum(), 'soit', round(tight_car_df['previous'].sum()/len(df)*100,2), '% du total')\n",
    "print('- dont locations non serrées :', len(tight_car_df[tight_car_df['previous']==0]), 'soit', round(len(tight_car_df[tight_car_df['previous']==0])/len(df)*100,2), '% du total')"
   ]
  },
  {
   "cell_type": "code",
   "execution_count": 244,
   "metadata": {},
   "outputs": [
    {
     "name": "stdout",
     "output_type": "stream",
     "text": [
      "Part moyenne des locations serrées dans le revenu total : 27.48 %\n",
      "Nombre de loueurs : 1087\n"
     ]
    },
    {
     "data": {
      "text/html": [
       "<div>\n",
       "<style scoped>\n",
       "    .dataframe tbody tr th:only-of-type {\n",
       "        vertical-align: middle;\n",
       "    }\n",
       "\n",
       "    .dataframe tbody tr th {\n",
       "        vertical-align: top;\n",
       "    }\n",
       "\n",
       "    .dataframe thead th {\n",
       "        text-align: right;\n",
       "    }\n",
       "</style>\n",
       "<table border=\"1\" class=\"dataframe\">\n",
       "  <thead>\n",
       "    <tr style=\"text-align: right;\">\n",
       "      <th></th>\n",
       "      <th>car_id</th>\n",
       "      <th>previous</th>\n",
       "      <th>total</th>\n",
       "      <th>proportion</th>\n",
       "    </tr>\n",
       "  </thead>\n",
       "  <tbody>\n",
       "    <tr>\n",
       "      <th>68</th>\n",
       "      <td>368604</td>\n",
       "      <td>4</td>\n",
       "      <td>5</td>\n",
       "      <td>80.00</td>\n",
       "    </tr>\n",
       "    <tr>\n",
       "      <th>43</th>\n",
       "      <td>399575</td>\n",
       "      <td>5</td>\n",
       "      <td>7</td>\n",
       "      <td>71.43</td>\n",
       "    </tr>\n",
       "    <tr>\n",
       "      <th>207</th>\n",
       "      <td>383144</td>\n",
       "      <td>2</td>\n",
       "      <td>3</td>\n",
       "      <td>66.67</td>\n",
       "    </tr>\n",
       "    <tr>\n",
       "      <th>338</th>\n",
       "      <td>415726</td>\n",
       "      <td>2</td>\n",
       "      <td>3</td>\n",
       "      <td>66.67</td>\n",
       "    </tr>\n",
       "    <tr>\n",
       "      <th>327</th>\n",
       "      <td>226317</td>\n",
       "      <td>2</td>\n",
       "      <td>3</td>\n",
       "      <td>66.67</td>\n",
       "    </tr>\n",
       "    <tr>\n",
       "      <th>322</th>\n",
       "      <td>409088</td>\n",
       "      <td>2</td>\n",
       "      <td>3</td>\n",
       "      <td>66.67</td>\n",
       "    </tr>\n",
       "    <tr>\n",
       "      <th>313</th>\n",
       "      <td>307595</td>\n",
       "      <td>2</td>\n",
       "      <td>3</td>\n",
       "      <td>66.67</td>\n",
       "    </tr>\n",
       "    <tr>\n",
       "      <th>178</th>\n",
       "      <td>396552</td>\n",
       "      <td>2</td>\n",
       "      <td>3</td>\n",
       "      <td>66.67</td>\n",
       "    </tr>\n",
       "    <tr>\n",
       "      <th>311</th>\n",
       "      <td>310049</td>\n",
       "      <td>2</td>\n",
       "      <td>3</td>\n",
       "      <td>66.67</td>\n",
       "    </tr>\n",
       "    <tr>\n",
       "      <th>293</th>\n",
       "      <td>297119</td>\n",
       "      <td>2</td>\n",
       "      <td>3</td>\n",
       "      <td>66.67</td>\n",
       "    </tr>\n",
       "  </tbody>\n",
       "</table>\n",
       "</div>"
      ],
      "text/plain": [
       "     car_id  previous  total  proportion\n",
       "68   368604         4      5       80.00\n",
       "43   399575         5      7       71.43\n",
       "207  383144         2      3       66.67\n",
       "338  415726         2      3       66.67\n",
       "327  226317         2      3       66.67\n",
       "322  409088         2      3       66.67\n",
       "313  307595         2      3       66.67\n",
       "178  396552         2      3       66.67\n",
       "311  310049         2      3       66.67\n",
       "293  297119         2      3       66.67"
      ]
     },
     "execution_count": 244,
     "metadata": {},
     "output_type": "execute_result"
    }
   ],
   "source": [
    "owners_tight = pd.merge(all_tight_df, all_rentals_df, left_on='car_id', right_on='car_id')\n",
    "owners_tight.rename(columns={'rental_id': 'total'}, inplace=True)\n",
    "owners_tight['proportion'] = round(owners_tight['previous']/owners_tight['total']*100,2)\n",
    "\n",
    "print('Part moyenne des locations serrées dans le revenu total :', round(owners_tight['proportion'].mean(),2), '%')\n",
    "print('Nombre de loueurs :', len(owners_tight))\n",
    "owners_tight.sort_values(by='proportion', ascending=False).head(10)"
   ]
  },
  {
   "cell_type": "markdown",
   "metadata": {},
   "source": [
    "## Impact du seuil sur les revenus\n",
    "\n",
    "Nous fixons un seuil à 2,5 heures puis à 4 heures et nous observons l'impact sur les revenus."
   ]
  },
  {
   "cell_type": "markdown",
   "metadata": {},
   "source": [
    "### Seuil à 2,5 heures\n",
    "\n",
    "Le nombre de réservations descend à 1040 : on perd 800 réservations.\n",
    "\n",
    "Les loueurs concernés ne réalisent plus que 30% du revenu total, au lieu de 34%.\n",
    "\n",
    "Pour ces loueurs ces locations ne représentent en moyenne plus que 24% de leurs revenus, au lieu de 28%."
   ]
  },
  {
   "cell_type": "code",
   "execution_count": 404,
   "metadata": {},
   "outputs": [
    {
     "name": "stdout",
     "output_type": "stream",
     "text": [
      "Locations restantes après application du seuil de 2,5 heures : 20506\n",
      "Soit réservations perdues : 803\n",
      "Nouvelle part de ces loueurs dans le groupe total : 30.28 %\n"
     ]
    }
   ],
   "source": [
    "# Rappel :\n",
    "# tight_car_df = toutes les locations des propriétaires ayant des locations serrées\n",
    "\n",
    "rentals_to_remove = tight_car_df[(tight_car_df['time_gap'] < 150) & (tight_car_df['previous']== 1)]['rental_id'].to_list()\n",
    "\n",
    "new_revenue = df[~df['rental_id'].isin(rentals_to_remove)]\n",
    "\n",
    "print('Locations restantes après application du seuil de 2,5 heures :', len(new_revenue))\n",
    "print('Soit réservations perdues :', len(rentals_to_remove))\n",
    "print('Nouvelle part de ces loueurs dans le groupe total :', round(len(new_revenue[new_revenue['car_id'].isin(tight_car_id)])/len(df)*100,2), '%')"
   ]
  },
  {
   "cell_type": "code",
   "execution_count": 405,
   "metadata": {},
   "outputs": [],
   "source": [
    "all_tight_df = new_revenue[new_revenue['car_id'].isin(tight_car_id)].groupby('car_id').sum()['previous'].to_frame().reset_index()\n",
    "all_rentals_df = new_revenue.groupby('car_id').count()['rental_id'].to_frame().reset_index()"
   ]
  },
  {
   "cell_type": "code",
   "execution_count": 406,
   "metadata": {},
   "outputs": [
    {
     "name": "stdout",
     "output_type": "stream",
     "text": [
      "Nouvelle part moyenne des locations serrées dans le revenu de ces loueurs : 23.78 %\n",
      "Nouveau nombre de loueurs : 717\n"
     ]
    },
    {
     "data": {
      "text/html": [
       "<div>\n",
       "<style scoped>\n",
       "    .dataframe tbody tr th:only-of-type {\n",
       "        vertical-align: middle;\n",
       "    }\n",
       "\n",
       "    .dataframe tbody tr th {\n",
       "        vertical-align: top;\n",
       "    }\n",
       "\n",
       "    .dataframe thead th {\n",
       "        text-align: right;\n",
       "    }\n",
       "</style>\n",
       "<table border=\"1\" class=\"dataframe\">\n",
       "  <thead>\n",
       "    <tr style=\"text-align: right;\">\n",
       "      <th></th>\n",
       "      <th>car_id</th>\n",
       "      <th>previous</th>\n",
       "      <th>total</th>\n",
       "      <th>proportion</th>\n",
       "    </tr>\n",
       "  </thead>\n",
       "  <tbody>\n",
       "    <tr>\n",
       "      <th>538</th>\n",
       "      <td>368604</td>\n",
       "      <td>3</td>\n",
       "      <td>4</td>\n",
       "      <td>75.00</td>\n",
       "    </tr>\n",
       "    <tr>\n",
       "      <th>1085</th>\n",
       "      <td>415726</td>\n",
       "      <td>2</td>\n",
       "      <td>3</td>\n",
       "      <td>66.67</td>\n",
       "    </tr>\n",
       "    <tr>\n",
       "      <th>863</th>\n",
       "      <td>399575</td>\n",
       "      <td>4</td>\n",
       "      <td>6</td>\n",
       "      <td>66.67</td>\n",
       "    </tr>\n",
       "    <tr>\n",
       "      <th>49</th>\n",
       "      <td>223850</td>\n",
       "      <td>3</td>\n",
       "      <td>5</td>\n",
       "      <td>60.00</td>\n",
       "    </tr>\n",
       "    <tr>\n",
       "      <th>204</th>\n",
       "      <td>310444</td>\n",
       "      <td>4</td>\n",
       "      <td>7</td>\n",
       "      <td>57.14</td>\n",
       "    </tr>\n",
       "    <tr>\n",
       "      <th>981</th>\n",
       "      <td>407607</td>\n",
       "      <td>2</td>\n",
       "      <td>4</td>\n",
       "      <td>50.00</td>\n",
       "    </tr>\n",
       "    <tr>\n",
       "      <th>680</th>\n",
       "      <td>382968</td>\n",
       "      <td>1</td>\n",
       "      <td>2</td>\n",
       "      <td>50.00</td>\n",
       "    </tr>\n",
       "    <tr>\n",
       "      <th>150</th>\n",
       "      <td>295619</td>\n",
       "      <td>1</td>\n",
       "      <td>2</td>\n",
       "      <td>50.00</td>\n",
       "    </tr>\n",
       "    <tr>\n",
       "      <th>149</th>\n",
       "      <td>295415</td>\n",
       "      <td>1</td>\n",
       "      <td>2</td>\n",
       "      <td>50.00</td>\n",
       "    </tr>\n",
       "    <tr>\n",
       "      <th>363</th>\n",
       "      <td>344091</td>\n",
       "      <td>1</td>\n",
       "      <td>2</td>\n",
       "      <td>50.00</td>\n",
       "    </tr>\n",
       "  </tbody>\n",
       "</table>\n",
       "</div>"
      ],
      "text/plain": [
       "      car_id  previous  total  proportion\n",
       "538   368604         3      4       75.00\n",
       "1085  415726         2      3       66.67\n",
       "863   399575         4      6       66.67\n",
       "49    223850         3      5       60.00\n",
       "204   310444         4      7       57.14\n",
       "981   407607         2      4       50.00\n",
       "680   382968         1      2       50.00\n",
       "150   295619         1      2       50.00\n",
       "149   295415         1      2       50.00\n",
       "363   344091         1      2       50.00"
      ]
     },
     "execution_count": 406,
     "metadata": {},
     "output_type": "execute_result"
    }
   ],
   "source": [
    "owners_tight = pd.merge(all_tight_df, all_rentals_df, left_on='car_id', right_on='car_id')\n",
    "owners_tight.rename(columns={'rental_id': 'total'}, inplace=True)\n",
    "owners_tight['proportion'] = round(owners_tight['previous']/owners_tight['total']*100,2)\n",
    "\n",
    "print('Nouvelle part moyenne des locations serrées dans le revenu de ces loueurs :', round(owners_tight[owners_tight['previous']>0]['proportion'].mean(),2), '%')\n",
    "print('Nouveau nombre de loueurs :', len(owners_tight[owners_tight['previous']>0]))\n",
    "owners_tight.sort_values(by='proportion', ascending=False).head(10)"
   ]
  },
  {
   "cell_type": "markdown",
   "metadata": {},
   "source": [
    "### Seuil à 4 heures\n",
    "\n",
    "Le nombre de réservations descend à 840 : on perd 1000 réservations.\n",
    "\n",
    "Les loueurs concernés ne réalisent plus que 29% du revenu total, au lieu de 34%.\n",
    "\n",
    "Pour ces loueurs ces locations ne représentent en moyenne plus que 22% de leurs revenus, au lieu de 28%."
   ]
  },
  {
   "cell_type": "code",
   "execution_count": 407,
   "metadata": {},
   "outputs": [
    {
     "name": "stdout",
     "output_type": "stream",
     "text": [
      "Locations restantes après application du seuil de 4 heures : 20308\n",
      "Soit réservations perdues : 1001\n",
      "Nouvelle part de ces loueurs dans le groupe total : 29.35 %\n"
     ]
    }
   ],
   "source": [
    "# Rappel :\n",
    "# tight_car_df = toutes les locations des propriétaires ayant des locations serrées\n",
    "\n",
    "rentals_to_remove = tight_car_df[(tight_car_df['time_gap'] < 240) & (tight_car_df['previous']== 1)]['rental_id'].to_list()\n",
    "\n",
    "new_revenue = df[~df['rental_id'].isin(rentals_to_remove)]\n",
    "\n",
    "print('Locations restantes après application du seuil de 4 heures :', len(new_revenue))\n",
    "print('Soit réservations perdues :', len(rentals_to_remove))\n",
    "print('Nouvelle part de ces loueurs dans le groupe total :', round(len(new_revenue[new_revenue['car_id'].isin(tight_car_id)])/len(df)*100,2), '%')"
   ]
  },
  {
   "cell_type": "code",
   "execution_count": 408,
   "metadata": {},
   "outputs": [],
   "source": [
    "all_tight_df = new_revenue[new_revenue['car_id'].isin(tight_car_id)].groupby('car_id').sum()['previous'].to_frame().reset_index()\n",
    "all_rentals_df = new_revenue.groupby('car_id').count()['rental_id'].to_frame().reset_index()"
   ]
  },
  {
   "cell_type": "code",
   "execution_count": 409,
   "metadata": {},
   "outputs": [
    {
     "name": "stdout",
     "output_type": "stream",
     "text": [
      "Nouvelle part moyenne des locations serrées dans le revenu de ces loueurs : 22.69 %\n",
      "Nouveau nombre de loueurs : 608\n"
     ]
    },
    {
     "data": {
      "text/html": [
       "<div>\n",
       "<style scoped>\n",
       "    .dataframe tbody tr th:only-of-type {\n",
       "        vertical-align: middle;\n",
       "    }\n",
       "\n",
       "    .dataframe tbody tr th {\n",
       "        vertical-align: top;\n",
       "    }\n",
       "\n",
       "    .dataframe thead th {\n",
       "        text-align: right;\n",
       "    }\n",
       "</style>\n",
       "<table border=\"1\" class=\"dataframe\">\n",
       "  <thead>\n",
       "    <tr style=\"text-align: right;\">\n",
       "      <th></th>\n",
       "      <th>car_id</th>\n",
       "      <th>previous</th>\n",
       "      <th>total</th>\n",
       "      <th>proportion</th>\n",
       "    </tr>\n",
       "  </thead>\n",
       "  <tbody>\n",
       "    <tr>\n",
       "      <th>538</th>\n",
       "      <td>368604</td>\n",
       "      <td>3</td>\n",
       "      <td>4</td>\n",
       "      <td>75.0</td>\n",
       "    </tr>\n",
       "    <tr>\n",
       "      <th>863</th>\n",
       "      <td>399575</td>\n",
       "      <td>3</td>\n",
       "      <td>5</td>\n",
       "      <td>60.0</td>\n",
       "    </tr>\n",
       "    <tr>\n",
       "      <th>853</th>\n",
       "      <td>398247</td>\n",
       "      <td>1</td>\n",
       "      <td>2</td>\n",
       "      <td>50.0</td>\n",
       "    </tr>\n",
       "    <tr>\n",
       "      <th>204</th>\n",
       "      <td>310444</td>\n",
       "      <td>3</td>\n",
       "      <td>6</td>\n",
       "      <td>50.0</td>\n",
       "    </tr>\n",
       "    <tr>\n",
       "      <th>280</th>\n",
       "      <td>327575</td>\n",
       "      <td>1</td>\n",
       "      <td>2</td>\n",
       "      <td>50.0</td>\n",
       "    </tr>\n",
       "    <tr>\n",
       "      <th>735</th>\n",
       "      <td>387614</td>\n",
       "      <td>1</td>\n",
       "      <td>2</td>\n",
       "      <td>50.0</td>\n",
       "    </tr>\n",
       "    <tr>\n",
       "      <th>41</th>\n",
       "      <td>217819</td>\n",
       "      <td>1</td>\n",
       "      <td>2</td>\n",
       "      <td>50.0</td>\n",
       "    </tr>\n",
       "    <tr>\n",
       "      <th>401</th>\n",
       "      <td>350904</td>\n",
       "      <td>1</td>\n",
       "      <td>2</td>\n",
       "      <td>50.0</td>\n",
       "    </tr>\n",
       "    <tr>\n",
       "      <th>257</th>\n",
       "      <td>320780</td>\n",
       "      <td>1</td>\n",
       "      <td>2</td>\n",
       "      <td>50.0</td>\n",
       "    </tr>\n",
       "    <tr>\n",
       "      <th>46</th>\n",
       "      <td>223204</td>\n",
       "      <td>1</td>\n",
       "      <td>2</td>\n",
       "      <td>50.0</td>\n",
       "    </tr>\n",
       "  </tbody>\n",
       "</table>\n",
       "</div>"
      ],
      "text/plain": [
       "     car_id  previous  total  proportion\n",
       "538  368604         3      4        75.0\n",
       "863  399575         3      5        60.0\n",
       "853  398247         1      2        50.0\n",
       "204  310444         3      6        50.0\n",
       "280  327575         1      2        50.0\n",
       "735  387614         1      2        50.0\n",
       "41   217819         1      2        50.0\n",
       "401  350904         1      2        50.0\n",
       "257  320780         1      2        50.0\n",
       "46   223204         1      2        50.0"
      ]
     },
     "execution_count": 409,
     "metadata": {},
     "output_type": "execute_result"
    }
   ],
   "source": [
    "owners_tight = pd.merge(all_tight_df, all_rentals_df, left_on='car_id', right_on='car_id')\n",
    "owners_tight.rename(columns={'rental_id': 'total'}, inplace=True)\n",
    "owners_tight['proportion'] = round(owners_tight['previous']/owners_tight['total']*100,2)\n",
    "\n",
    "print('Nouvelle part moyenne des locations serrées dans le revenu de ces loueurs :', round(owners_tight[owners_tight['previous']>0]['proportion'].mean(),2), '%')\n",
    "print('Nouveau nombre de loueurs :', len(owners_tight[owners_tight['previous']>0]))\n",
    "owners_tight.sort_values(by='proportion', ascending=False).head(10)"
   ]
  },
  {
   "cell_type": "markdown",
   "metadata": {},
   "source": [
    "## Résultats\n",
    "\n",
    "#### Annulations : \n",
    "\n",
    "- On observe que 88% des locations serrées sont maintenues. Seulement 12% sont annulées.\n",
    "- Cela représente 229 locations annulées.\n",
    "- Parmi elles, dans 106 cas sur 229 le précédent loueur était en retard. Pour plus de la moitié des cas, le loueur précédent n'était pas en retard.\n",
    "- Parmi les retards, 37 dépassaient effectivement l'heure de début de la location suivante.\n",
    "- Le temps de retour moyen étant de -38 minutes soit 38 minutes en avance.\n",
    "- Lorsque le retard était impactant il était en moyenne de 250 minutes soit 4h10.\n",
    "- On ignore si c'est le propriétaire ou le loueur qui est à l'origine de l'annulation.\n",
    "\n",
    "#### Délai accordé : \n",
    "\n",
    "- Le délai moyen accordé pour les locations serrées se situe entre 4h30 et 5h.\n",
    "- Il n'y a pas de différence notable lorsqu'elles sont annulées ou maintenues.\n",
    "- En moyenne le loueur précédent a rendu la voiture dans un délai de -23 minutes soit 23 minutes en avance.\n",
    "- Cependant dans 48% des cas, le loueur précédant une location serrée a rendu la voiture en retard. Ce taux est supérieur à la moyenne du groupe total qui est à 44%.\n",
    "\n",
    "#### Revenus : \n",
    "\n",
    "- Les locations serrées représentent en moyenne 28% des revenus des loueurs concernés\n",
    "- Ces loueurs possèdent 13% du parc de voitures et réalisent 34% des locations totales\n",
    "- --> Ils représentent un groupe de loueurs importants pour Getaround.\n",
    "\n",
    "#### Seuil : \n",
    "\n",
    "- Fixer un seuil à **2,5 heures** permettrait de conserver **1000 réservations** et les revenus des loueurs concernés seraient **maintenus à 30%**. \n",
    "- Par ailleurs **on réduirait de moitié** le nombre de clients mécontents.\n",
    "- Augmenter le seuil à **4 heures** permettrait de conserver **840 réservations** et les revenus des loueurs concernés **descendraient à 29%**. \n",
    "- Par ailleurs **on réduirait de deux tiers** le nombre de clients mécontents.\n",
    "- Au-delà de **12 heures** il n'y aurait plus de locations serrées et les loueurs concernées ne contribueraient plus qu'à **un quart des revenus totaux** contre un tiers au départ.\n",
    "\n",
    "#### Méthode de check-in : \n",
    "\n",
    "- Les réservations à délai court sont davantages effectuées avec des voitures Connect que dans le groupe global : 44% contre 20%.\n",
    "- Cela peut s'expliquer par le fait que cette méthode n'exige pas la validation du propriétaire. Le propriétaire est susceptible de refuser une location lorsqu'il estime le délai trop court, alors que les réservations avec Connect sont automatiques et n'appliquent pas de limitation dès lors que le véhicule est affiché comme disponible.\n",
    "- Les locations à délai court réservées avec la méthode Connect enregistrent plus d'annulations que celles réservées avec la méthode Mobile : 57% contre 43%.\n",
    "- --> Il serait judicieux d'appliquer la nouvelle fonctionnalité uniquement sur les voitures Connect pour commencer."
   ]
  },
  {
   "cell_type": "code",
   "execution_count": null,
   "metadata": {},
   "outputs": [],
   "source": []
  }
 ],
 "metadata": {
  "kernelspec": {
   "display_name": "eda",
   "language": "python",
   "name": "python3"
  },
  "language_info": {
   "codemirror_mode": {
    "name": "ipython",
    "version": 3
   },
   "file_extension": ".py",
   "mimetype": "text/x-python",
   "name": "python",
   "nbconvert_exporter": "python",
   "pygments_lexer": "ipython3",
   "version": "3.10.13"
  }
 },
 "nbformat": 4,
 "nbformat_minor": 2
}
